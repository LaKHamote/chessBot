{
 "cells": [
  {
   "cell_type": "markdown",
   "metadata": {},
   "source": [
    "# Noções de IA - Trabalho Final - Deep Learning for Chess\n",
    "##### Integrantes:\n",
    "- Lucas Corrêa Boaventura           - 211038262\n",
    "- Alexandre Castanho Sampaio Rocha  - 211027536"
   ]
  },
  {
   "cell_type": "markdown",
   "metadata": {},
   "source": [
    "## Bibliotecas"
   ]
  },
  {
   "cell_type": "code",
   "execution_count": 1,
   "metadata": {},
   "outputs": [],
   "source": [
    "import tensorflow as tf\n",
    "from tensorflow.keras import layers\n",
    "import chess\n",
    "import pandas as pd\n",
    "import numpy as np\n",
    "import pickle\n",
    "from random import randint\n",
    "from IPython.display import clear_output\n",
    "import chess.engine\n",
    "engine = chess.engine.SimpleEngine.popen_uci(\"stockfish-windows-x86-64-avx2\\stockfish\\stockfish-windows-x86-64-avx2\")\n",
    "%load_ext skip_kernel_extension"
   ]
  },
  {
   "cell_type": "markdown",
   "metadata": {},
   "source": [
    "## Dados para trabalhar com um Tabuleiro"
   ]
  },
  {
   "cell_type": "markdown",
   "metadata": {},
   "source": [
    "#### Funções"
   ]
  },
  {
   "cell_type": "code",
   "execution_count": 2,
   "metadata": {},
   "outputs": [
    {
     "name": "stdout",
     "output_type": "stream",
     "text": [
      "['PAWN', 'KNIGHT', 'BISHOP', 'ROOK', 'QUEEN', 'KING'] \n",
      " ['BLACK', 'WHITE'] \n",
      " ['p', 'n', 'b', 'r', 'q', 'k']\n"
     ]
    },
    {
     "data": {
      "image/svg+xml": [
       "<svg xmlns=\"http://www.w3.org/2000/svg\" xmlns:xlink=\"http://www.w3.org/1999/xlink\" viewBox=\"0 0 390 390\" width=\"390\" height=\"390\"><desc><pre>r n b q k b n r\n",
       "p p p p p p p p\n",
       ". . . . . . . .\n",
       ". . . . . . . .\n",
       ". . . . . . . .\n",
       ". . . . . . . .\n",
       "P P P P P P P P\n",
       "R N B Q K B N R</pre></desc><defs><g id=\"white-pawn\" class=\"white pawn\"><path d=\"M22.5 9c-2.21 0-4 1.79-4 4 0 .89.29 1.71.78 2.38C17.33 16.5 16 18.59 16 21c0 2.03.94 3.84 2.41 5.03-3 1.06-7.41 5.55-7.41 13.47h23c0-7.92-4.41-12.41-7.41-13.47 1.47-1.19 2.41-3 2.41-5.03 0-2.41-1.33-4.5-3.28-5.62.49-.67.78-1.49.78-2.38 0-2.21-1.79-4-4-4z\" fill=\"#fff\" stroke=\"#000\" stroke-width=\"1.5\" stroke-linecap=\"round\" /></g><g id=\"white-knight\" class=\"white knight\" fill=\"none\" fill-rule=\"evenodd\" stroke=\"#000\" stroke-width=\"1.5\" stroke-linecap=\"round\" stroke-linejoin=\"round\"><path d=\"M 22,10 C 32.5,11 38.5,18 38,39 L 15,39 C 15,30 25,32.5 23,18\" style=\"fill:#ffffff; stroke:#000000;\" /><path d=\"M 24,18 C 24.38,20.91 18.45,25.37 16,27 C 13,29 13.18,31.34 11,31 C 9.958,30.06 12.41,27.96 11,28 C 10,28 11.19,29.23 10,30 C 9,30 5.997,31 6,26 C 6,24 12,14 12,14 C 12,14 13.89,12.1 14,10.5 C 13.27,9.506 13.5,8.5 13.5,7.5 C 14.5,6.5 16.5,10 16.5,10 L 18.5,10 C 18.5,10 19.28,8.008 21,7 C 22,7 22,10 22,10\" style=\"fill:#ffffff; stroke:#000000;\" /><path d=\"M 9.5 25.5 A 0.5 0.5 0 1 1 8.5,25.5 A 0.5 0.5 0 1 1 9.5 25.5 z\" style=\"fill:#000000; stroke:#000000;\" /><path d=\"M 15 15.5 A 0.5 1.5 0 1 1 14,15.5 A 0.5 1.5 0 1 1 15 15.5 z\" transform=\"matrix(0.866,0.5,-0.5,0.866,9.693,-5.173)\" style=\"fill:#000000; stroke:#000000;\" /></g><g id=\"white-bishop\" class=\"white bishop\" fill=\"none\" fill-rule=\"evenodd\" stroke=\"#000\" stroke-width=\"1.5\" stroke-linecap=\"round\" stroke-linejoin=\"round\"><g fill=\"#fff\" stroke-linecap=\"butt\"><path d=\"M9 36c3.39-.97 10.11.43 13.5-2 3.39 2.43 10.11 1.03 13.5 2 0 0 1.65.54 3 2-.68.97-1.65.99-3 .5-3.39-.97-10.11.46-13.5-1-3.39 1.46-10.11.03-13.5 1-1.354.49-2.323.47-3-.5 1.354-1.94 3-2 3-2zM15 32c2.5 2.5 12.5 2.5 15 0 .5-1.5 0-2 0-2 0-2.5-2.5-4-2.5-4 5.5-1.5 6-11.5-5-15.5-11 4-10.5 14-5 15.5 0 0-2.5 1.5-2.5 4 0 0-.5.5 0 2zM25 8a2.5 2.5 0 1 1-5 0 2.5 2.5 0 1 1 5 0z\" /></g><path d=\"M17.5 26h10M15 30h15m-7.5-14.5v5M20 18h5\" stroke-linejoin=\"miter\" /></g><g id=\"white-rook\" class=\"white rook\" fill=\"#fff\" fill-rule=\"evenodd\" stroke=\"#000\" stroke-width=\"1.5\" stroke-linecap=\"round\" stroke-linejoin=\"round\"><path d=\"M9 39h27v-3H9v3zM12 36v-4h21v4H12zM11 14V9h4v2h5V9h5v2h5V9h4v5\" stroke-linecap=\"butt\" /><path d=\"M34 14l-3 3H14l-3-3\" /><path d=\"M31 17v12.5H14V17\" stroke-linecap=\"butt\" stroke-linejoin=\"miter\" /><path d=\"M31 29.5l1.5 2.5h-20l1.5-2.5\" /><path d=\"M11 14h23\" fill=\"none\" stroke-linejoin=\"miter\" /></g><g id=\"white-queen\" class=\"white queen\" fill=\"#fff\" fill-rule=\"evenodd\" stroke=\"#000\" stroke-width=\"1.5\" stroke-linecap=\"round\" stroke-linejoin=\"round\"><path d=\"M8 12a2 2 0 1 1-4 0 2 2 0 1 1 4 0zM24.5 7.5a2 2 0 1 1-4 0 2 2 0 1 1 4 0zM41 12a2 2 0 1 1-4 0 2 2 0 1 1 4 0zM16 8.5a2 2 0 1 1-4 0 2 2 0 1 1 4 0zM33 9a2 2 0 1 1-4 0 2 2 0 1 1 4 0z\" /><path d=\"M9 26c8.5-1.5 21-1.5 27 0l2-12-7 11V11l-5.5 13.5-3-15-3 15-5.5-14V25L7 14l2 12zM9 26c0 2 1.5 2 2.5 4 1 1.5 1 1 .5 3.5-1.5 1-1.5 2.5-1.5 2.5-1.5 1.5.5 2.5.5 2.5 6.5 1 16.5 1 23 0 0 0 1.5-1 0-2.5 0 0 .5-1.5-1-2.5-.5-2.5-.5-2 .5-3.5 1-2 2.5-2 2.5-4-8.5-1.5-18.5-1.5-27 0z\" stroke-linecap=\"butt\" /><path d=\"M11.5 30c3.5-1 18.5-1 22 0M12 33.5c6-1 15-1 21 0\" fill=\"none\" /></g><g id=\"white-king\" class=\"white king\" fill=\"none\" fill-rule=\"evenodd\" stroke=\"#000\" stroke-width=\"1.5\" stroke-linecap=\"round\" stroke-linejoin=\"round\"><path d=\"M22.5 11.63V6M20 8h5\" stroke-linejoin=\"miter\" /><path d=\"M22.5 25s4.5-7.5 3-10.5c0 0-1-2.5-3-2.5s-3 2.5-3 2.5c-1.5 3 3 10.5 3 10.5\" fill=\"#fff\" stroke-linecap=\"butt\" stroke-linejoin=\"miter\" /><path d=\"M11.5 37c5.5 3.5 15.5 3.5 21 0v-7s9-4.5 6-10.5c-4-6.5-13.5-3.5-16 4V27v-3.5c-3.5-7.5-13-10.5-16-4-3 6 5 10 5 10V37z\" fill=\"#fff\" /><path d=\"M11.5 30c5.5-3 15.5-3 21 0m-21 3.5c5.5-3 15.5-3 21 0m-21 3.5c5.5-3 15.5-3 21 0\" /></g><g id=\"black-pawn\" class=\"black pawn\"><path d=\"M22.5 9c-2.21 0-4 1.79-4 4 0 .89.29 1.71.78 2.38C17.33 16.5 16 18.59 16 21c0 2.03.94 3.84 2.41 5.03-3 1.06-7.41 5.55-7.41 13.47h23c0-7.92-4.41-12.41-7.41-13.47 1.47-1.19 2.41-3 2.41-5.03 0-2.41-1.33-4.5-3.28-5.62.49-.67.78-1.49.78-2.38 0-2.21-1.79-4-4-4z\" fill=\"#000\" stroke=\"#000\" stroke-width=\"1.5\" stroke-linecap=\"round\" /></g><g id=\"black-knight\" class=\"black knight\" fill=\"none\" fill-rule=\"evenodd\" stroke=\"#000\" stroke-width=\"1.5\" stroke-linecap=\"round\" stroke-linejoin=\"round\"><path d=\"M 22,10 C 32.5,11 38.5,18 38,39 L 15,39 C 15,30 25,32.5 23,18\" style=\"fill:#000000; stroke:#000000;\" /><path d=\"M 24,18 C 24.38,20.91 18.45,25.37 16,27 C 13,29 13.18,31.34 11,31 C 9.958,30.06 12.41,27.96 11,28 C 10,28 11.19,29.23 10,30 C 9,30 5.997,31 6,26 C 6,24 12,14 12,14 C 12,14 13.89,12.1 14,10.5 C 13.27,9.506 13.5,8.5 13.5,7.5 C 14.5,6.5 16.5,10 16.5,10 L 18.5,10 C 18.5,10 19.28,8.008 21,7 C 22,7 22,10 22,10\" style=\"fill:#000000; stroke:#000000;\" /><path d=\"M 9.5 25.5 A 0.5 0.5 0 1 1 8.5,25.5 A 0.5 0.5 0 1 1 9.5 25.5 z\" style=\"fill:#ececec; stroke:#ececec;\" /><path d=\"M 15 15.5 A 0.5 1.5 0 1 1 14,15.5 A 0.5 1.5 0 1 1 15 15.5 z\" transform=\"matrix(0.866,0.5,-0.5,0.866,9.693,-5.173)\" style=\"fill:#ececec; stroke:#ececec;\" /><path d=\"M 24.55,10.4 L 24.1,11.85 L 24.6,12 C 27.75,13 30.25,14.49 32.5,18.75 C 34.75,23.01 35.75,29.06 35.25,39 L 35.2,39.5 L 37.45,39.5 L 37.5,39 C 38,28.94 36.62,22.15 34.25,17.66 C 31.88,13.17 28.46,11.02 25.06,10.5 L 24.55,10.4 z \" style=\"fill:#ececec; stroke:none;\" /></g><g id=\"black-bishop\" class=\"black bishop\" fill=\"none\" fill-rule=\"evenodd\" stroke=\"#000\" stroke-width=\"1.5\" stroke-linecap=\"round\" stroke-linejoin=\"round\"><path d=\"M9 36c3.39-.97 10.11.43 13.5-2 3.39 2.43 10.11 1.03 13.5 2 0 0 1.65.54 3 2-.68.97-1.65.99-3 .5-3.39-.97-10.11.46-13.5-1-3.39 1.46-10.11.03-13.5 1-1.354.49-2.323.47-3-.5 1.354-1.94 3-2 3-2zm6-4c2.5 2.5 12.5 2.5 15 0 .5-1.5 0-2 0-2 0-2.5-2.5-4-2.5-4 5.5-1.5 6-11.5-5-15.5-11 4-10.5 14-5 15.5 0 0-2.5 1.5-2.5 4 0 0-.5.5 0 2zM25 8a2.5 2.5 0 1 1-5 0 2.5 2.5 0 1 1 5 0z\" fill=\"#000\" stroke-linecap=\"butt\" /><path d=\"M17.5 26h10M15 30h15m-7.5-14.5v5M20 18h5\" stroke=\"#fff\" stroke-linejoin=\"miter\" /></g><g id=\"black-rook\" class=\"black rook\" fill=\"#000\" fill-rule=\"evenodd\" stroke=\"#000\" stroke-width=\"1.5\" stroke-linecap=\"round\" stroke-linejoin=\"round\"><path d=\"M9 39h27v-3H9v3zM12.5 32l1.5-2.5h17l1.5 2.5h-20zM12 36v-4h21v4H12z\" stroke-linecap=\"butt\" /><path d=\"M14 29.5v-13h17v13H14z\" stroke-linecap=\"butt\" stroke-linejoin=\"miter\" /><path d=\"M14 16.5L11 14h23l-3 2.5H14zM11 14V9h4v2h5V9h5v2h5V9h4v5H11z\" stroke-linecap=\"butt\" /><path d=\"M12 35.5h21M13 31.5h19M14 29.5h17M14 16.5h17M11 14h23\" fill=\"none\" stroke=\"#fff\" stroke-width=\"1\" stroke-linejoin=\"miter\" /></g><g id=\"black-queen\" class=\"black queen\" fill=\"#000\" fill-rule=\"evenodd\" stroke=\"#000\" stroke-width=\"1.5\" stroke-linecap=\"round\" stroke-linejoin=\"round\"><g fill=\"#000\" stroke=\"none\"><circle cx=\"6\" cy=\"12\" r=\"2.75\" /><circle cx=\"14\" cy=\"9\" r=\"2.75\" /><circle cx=\"22.5\" cy=\"8\" r=\"2.75\" /><circle cx=\"31\" cy=\"9\" r=\"2.75\" /><circle cx=\"39\" cy=\"12\" r=\"2.75\" /></g><path d=\"M9 26c8.5-1.5 21-1.5 27 0l2.5-12.5L31 25l-.3-14.1-5.2 13.6-3-14.5-3 14.5-5.2-13.6L14 25 6.5 13.5 9 26zM9 26c0 2 1.5 2 2.5 4 1 1.5 1 1 .5 3.5-1.5 1-1.5 2.5-1.5 2.5-1.5 1.5.5 2.5.5 2.5 6.5 1 16.5 1 23 0 0 0 1.5-1 0-2.5 0 0 .5-1.5-1-2.5-.5-2.5-.5-2 .5-3.5 1-2 2.5-2 2.5-4-8.5-1.5-18.5-1.5-27 0z\" stroke-linecap=\"butt\" /><path d=\"M11 38.5a35 35 1 0 0 23 0\" fill=\"none\" stroke-linecap=\"butt\" /><path d=\"M11 29a35 35 1 0 1 23 0M12.5 31.5h20M11.5 34.5a35 35 1 0 0 22 0M10.5 37.5a35 35 1 0 0 24 0\" fill=\"none\" stroke=\"#fff\" /></g><g id=\"black-king\" class=\"black king\" fill=\"none\" fill-rule=\"evenodd\" stroke=\"#000\" stroke-width=\"1.5\" stroke-linecap=\"round\" stroke-linejoin=\"round\"><path d=\"M22.5 11.63V6\" stroke-linejoin=\"miter\" /><path d=\"M22.5 25s4.5-7.5 3-10.5c0 0-1-2.5-3-2.5s-3 2.5-3 2.5c-1.5 3 3 10.5 3 10.5\" fill=\"#000\" stroke-linecap=\"butt\" stroke-linejoin=\"miter\" /><path d=\"M11.5 37c5.5 3.5 15.5 3.5 21 0v-7s9-4.5 6-10.5c-4-6.5-13.5-3.5-16 4V27v-3.5c-3.5-7.5-13-10.5-16-4-3 6 5 10 5 10V37z\" fill=\"#000\" /><path d=\"M20 8h5\" stroke-linejoin=\"miter\" /><path d=\"M32 29.5s8.5-4 6.03-9.65C34.15 14 25 18 22.5 24.5l.01 2.1-.01-2.1C20 18 9.906 14 6.997 19.85c-2.497 5.65 4.853 9 4.853 9M11.5 30c5.5-3 15.5-3 21 0m-21 3.5c5.5-3 15.5-3 21 0m-21 3.5c5.5-3 15.5-3 21 0\" stroke=\"#fff\" /></g></defs><rect x=\"7.5\" y=\"7.5\" width=\"375\" height=\"375\" fill=\"none\" stroke=\"#212121\" stroke-width=\"15\" /><g transform=\"translate(20, 1) scale(0.75, 0.75)\" fill=\"#e5e5e5\" stroke=\"#e5e5e5\"><path d=\"M23.328 10.016q-1.742 0-2.414.398-.672.398-.672 1.36 0 .765.5 1.218.508.445 1.375.445 1.196 0 1.914-.843.727-.852.727-2.258v-.32zm2.867-.594v4.992h-1.437v-1.328q-.492.797-1.227 1.18-.734.375-1.797.375-1.343 0-2.14-.75-.79-.758-.79-2.024 0-1.476.985-2.226.992-.75 2.953-.75h2.016V8.75q0-.992-.656-1.531-.649-.547-1.829-.547-.75 0-1.46.18-.711.18-1.368.539V6.062q.79-.304 1.532-.453.742-.156 1.445-.156 1.898 0 2.836.984.937.985.937 2.985z\" /></g><g transform=\"translate(20, 375) scale(0.75, 0.75)\" fill=\"#e5e5e5\" stroke=\"#e5e5e5\"><path d=\"M23.328 10.016q-1.742 0-2.414.398-.672.398-.672 1.36 0 .765.5 1.218.508.445 1.375.445 1.196 0 1.914-.843.727-.852.727-2.258v-.32zm2.867-.594v4.992h-1.437v-1.328q-.492.797-1.227 1.18-.734.375-1.797.375-1.343 0-2.14-.75-.79-.758-.79-2.024 0-1.476.985-2.226.992-.75 2.953-.75h2.016V8.75q0-.992-.656-1.531-.649-.547-1.829-.547-.75 0-1.46.18-.711.18-1.368.539V6.062q.79-.304 1.532-.453.742-.156 1.445-.156 1.898 0 2.836.984.937.985.937 2.985z\" /></g><g transform=\"translate(65, 1) scale(0.75, 0.75)\" fill=\"#e5e5e5\" stroke=\"#e5e5e5\"><path d=\"M24.922 10.047q0-1.586-.656-2.485-.649-.906-1.79-.906-1.14 0-1.796.906-.649.899-.649 2.485 0 1.586.649 2.492.656.898 1.797.898 1.14 0 1.789-.898.656-.906.656-2.492zm-4.89-3.055q.452-.781 1.14-1.156.695-.383 1.656-.383 1.594 0 2.586 1.266 1 1.265 1 3.328 0 2.062-1 3.328-.992 1.266-2.586 1.266-.96 0-1.656-.375-.688-.383-1.14-1.164v1.312h-1.446V2.258h1.445z\" /></g><g transform=\"translate(65, 375) scale(0.75, 0.75)\" fill=\"#e5e5e5\" stroke=\"#e5e5e5\"><path d=\"M24.922 10.047q0-1.586-.656-2.485-.649-.906-1.79-.906-1.14 0-1.796.906-.649.899-.649 2.485 0 1.586.649 2.492.656.898 1.797.898 1.14 0 1.789-.898.656-.906.656-2.492zm-4.89-3.055q.452-.781 1.14-1.156.695-.383 1.656-.383 1.594 0 2.586 1.266 1 1.265 1 3.328 0 2.062-1 3.328-.992 1.266-2.586 1.266-.96 0-1.656-.375-.688-.383-1.14-1.164v1.312h-1.446V2.258h1.445z\" /></g><g transform=\"translate(110, 1) scale(0.75, 0.75)\" fill=\"#e5e5e5\" stroke=\"#e5e5e5\"><path d=\"M25.96 6v1.344q-.608-.336-1.226-.5-.609-.172-1.234-.172-1.398 0-2.172.89-.773.883-.773 2.485 0 1.601.773 2.492.774.883 2.172.883.625 0 1.234-.164.618-.172 1.227-.508v1.328q-.602.281-1.25.422-.64.14-1.367.14-1.977 0-3.14-1.242-1.165-1.242-1.165-3.351 0-2.14 1.172-3.367 1.18-1.227 3.227-1.227.664 0 1.296.14.633.134 1.227.407z\" /></g><g transform=\"translate(110, 375) scale(0.75, 0.75)\" fill=\"#e5e5e5\" stroke=\"#e5e5e5\"><path d=\"M25.96 6v1.344q-.608-.336-1.226-.5-.609-.172-1.234-.172-1.398 0-2.172.89-.773.883-.773 2.485 0 1.601.773 2.492.774.883 2.172.883.625 0 1.234-.164.618-.172 1.227-.508v1.328q-.602.281-1.25.422-.64.14-1.367.14-1.977 0-3.14-1.242-1.165-1.242-1.165-3.351 0-2.14 1.172-3.367 1.18-1.227 3.227-1.227.664 0 1.296.14.633.134 1.227.407z\" /></g><g transform=\"translate(155, 1) scale(0.75, 0.75)\" fill=\"#e5e5e5\" stroke=\"#e5e5e5\"><path d=\"M24.973 6.992V2.258h1.437v12.156h-1.437v-1.312q-.453.78-1.149 1.164-.687.375-1.656.375-1.586 0-2.586-1.266-.992-1.266-.992-3.328 0-2.063.992-3.328 1-1.266 2.586-1.266.969 0 1.656.383.696.375 1.149 1.156zm-4.899 3.055q0 1.586.649 2.492.656.898 1.797.898 1.14 0 1.796-.898.657-.906.657-2.492 0-1.586-.657-2.485-.656-.906-1.796-.906-1.141 0-1.797.906-.649.899-.649 2.485z\" /></g><g transform=\"translate(155, 375) scale(0.75, 0.75)\" fill=\"#e5e5e5\" stroke=\"#e5e5e5\"><path d=\"M24.973 6.992V2.258h1.437v12.156h-1.437v-1.312q-.453.78-1.149 1.164-.687.375-1.656.375-1.586 0-2.586-1.266-.992-1.266-.992-3.328 0-2.063.992-3.328 1-1.266 2.586-1.266.969 0 1.656.383.696.375 1.149 1.156zm-4.899 3.055q0 1.586.649 2.492.656.898 1.797.898 1.14 0 1.796-.898.657-.906.657-2.492 0-1.586-.657-2.485-.656-.906-1.796-.906-1.141 0-1.797.906-.649.899-.649 2.485z\" /></g><g transform=\"translate(200, 1) scale(0.75, 0.75)\" fill=\"#e5e5e5\" stroke=\"#e5e5e5\"><path d=\"M26.555 9.68v.703h-6.61q.094 1.484.89 2.265.806.774 2.235.774.828 0 1.602-.203.781-.203 1.547-.61v1.36q-.774.328-1.586.5-.813.172-1.649.172-2.093 0-3.32-1.22-1.219-1.218-1.219-3.296 0-2.148 1.157-3.406 1.164-1.266 3.132-1.266 1.766 0 2.79 1.14 1.03 1.134 1.03 3.087zm-1.438-.422q-.015-1.18-.664-1.883-.64-.703-1.703-.703-1.203 0-1.93.68-.718.68-.828 1.914z\" /></g><g transform=\"translate(200, 375) scale(0.75, 0.75)\" fill=\"#e5e5e5\" stroke=\"#e5e5e5\"><path d=\"M26.555 9.68v.703h-6.61q.094 1.484.89 2.265.806.774 2.235.774.828 0 1.602-.203.781-.203 1.547-.61v1.36q-.774.328-1.586.5-.813.172-1.649.172-2.093 0-3.32-1.22-1.219-1.218-1.219-3.296 0-2.148 1.157-3.406 1.164-1.266 3.132-1.266 1.766 0 2.79 1.14 1.03 1.134 1.03 3.087zm-1.438-.422q-.015-1.18-.664-1.883-.64-.703-1.703-.703-1.203 0-1.93.68-.718.68-.828 1.914z\" /></g><g transform=\"translate(245, 1) scale(0.75, 0.75)\" fill=\"#e5e5e5\" stroke=\"#e5e5e5\"><path d=\"M25.285 2.258v1.195H23.91q-.773 0-1.078.313-.297.312-.297 1.125v.773h2.367v1.117h-2.367v7.633H21.09V6.781h-1.375V5.664h1.375v-.61q0-1.46.68-2.124.68-.672 2.156-.672z\" /></g><g transform=\"translate(245, 375) scale(0.75, 0.75)\" fill=\"#e5e5e5\" stroke=\"#e5e5e5\"><path d=\"M25.285 2.258v1.195H23.91q-.773 0-1.078.313-.297.312-.297 1.125v.773h2.367v1.117h-2.367v7.633H21.09V6.781h-1.375V5.664h1.375v-.61q0-1.46.68-2.124.68-.672 2.156-.672z\" /></g><g transform=\"translate(290, 1) scale(0.75, 0.75)\" fill=\"#e5e5e5\" stroke=\"#e5e5e5\"><path d=\"M24.973 9.937q0-1.562-.649-2.421-.64-.86-1.804-.86-1.157 0-1.805.86-.64.859-.64 2.421 0 1.555.64 2.415.648.859 1.805.859 1.164 0 1.804-.86.649-.859.649-2.414zm1.437 3.391q0 2.234-.992 3.32-.992 1.094-3.04 1.094-.757 0-1.429-.117-.672-.11-1.304-.344v-1.398q.632.344 1.25.508.617.164 1.257.164 1.414 0 2.118-.743.703-.734.703-2.226v-.711q-.446.773-1.141 1.156-.695.383-1.664.383-1.61 0-2.594-1.227-.984-1.226-.984-3.25 0-2.03.984-3.257.985-1.227 2.594-1.227.969 0 1.664.383t1.14 1.156V5.664h1.438z\" /></g><g transform=\"translate(290, 375) scale(0.75, 0.75)\" fill=\"#e5e5e5\" stroke=\"#e5e5e5\"><path d=\"M24.973 9.937q0-1.562-.649-2.421-.64-.86-1.804-.86-1.157 0-1.805.86-.64.859-.64 2.421 0 1.555.64 2.415.648.859 1.805.859 1.164 0 1.804-.86.649-.859.649-2.414zm1.437 3.391q0 2.234-.992 3.32-.992 1.094-3.04 1.094-.757 0-1.429-.117-.672-.11-1.304-.344v-1.398q.632.344 1.25.508.617.164 1.257.164 1.414 0 2.118-.743.703-.734.703-2.226v-.711q-.446.773-1.141 1.156-.695.383-1.664.383-1.61 0-2.594-1.227-.984-1.226-.984-3.25 0-2.03.984-3.257.985-1.227 2.594-1.227.969 0 1.664.383t1.14 1.156V5.664h1.438z\" /></g><g transform=\"translate(335, 1) scale(0.75, 0.75)\" fill=\"#e5e5e5\" stroke=\"#e5e5e5\"><path d=\"M26.164 9.133v5.281h-1.437V9.18q0-1.243-.485-1.86-.484-.617-1.453-.617-1.164 0-1.836.742-.672.742-.672 2.024v4.945h-1.445V2.258h1.445v4.765q.516-.789 1.211-1.18.703-.39 1.617-.39 1.508 0 2.282.938.773.93.773 2.742z\" /></g><g transform=\"translate(335, 375) scale(0.75, 0.75)\" fill=\"#e5e5e5\" stroke=\"#e5e5e5\"><path d=\"M26.164 9.133v5.281h-1.437V9.18q0-1.243-.485-1.86-.484-.617-1.453-.617-1.164 0-1.836.742-.672.742-.672 2.024v4.945h-1.445V2.258h1.445v4.765q.516-.789 1.211-1.18.703-.39 1.617-.39 1.508 0 2.282.938.773.93.773 2.742z\" /></g><g transform=\"translate(0, 335) scale(0.75, 0.75)\" fill=\"#e5e5e5\" stroke=\"#e5e5e5\"><path d=\"M6.754 26.996h2.578v-8.898l-2.805.562v-1.437l2.79-.563h1.578v10.336h2.578v1.328h-6.72z\" /></g><g transform=\"translate(375, 335) scale(0.75, 0.75)\" fill=\"#e5e5e5\" stroke=\"#e5e5e5\"><path d=\"M6.754 26.996h2.578v-8.898l-2.805.562v-1.437l2.79-.563h1.578v10.336h2.578v1.328h-6.72z\" /></g><g transform=\"translate(0, 290) scale(0.75, 0.75)\" fill=\"#e5e5e5\" stroke=\"#e5e5e5\"><path d=\"M8.195 26.996h5.508v1.328H6.297v-1.328q.898-.93 2.445-2.492 1.555-1.57 1.953-2.024.758-.851 1.055-1.437.305-.594.305-1.164 0-.93-.657-1.516-.648-.586-1.695-.586-.742 0-1.57.258-.82.258-1.758.781v-1.593q.953-.383 1.781-.578.828-.196 1.516-.196 1.812 0 2.89.906 1.079.907 1.079 2.422 0 .72-.274 1.368-.265.64-.976 1.515-.196.227-1.243 1.313-1.046 1.078-2.953 3.023z\" /></g><g transform=\"translate(375, 290) scale(0.75, 0.75)\" fill=\"#e5e5e5\" stroke=\"#e5e5e5\"><path d=\"M8.195 26.996h5.508v1.328H6.297v-1.328q.898-.93 2.445-2.492 1.555-1.57 1.953-2.024.758-.851 1.055-1.437.305-.594.305-1.164 0-.93-.657-1.516-.648-.586-1.695-.586-.742 0-1.57.258-.82.258-1.758.781v-1.593q.953-.383 1.781-.578.828-.196 1.516-.196 1.812 0 2.89.906 1.079.907 1.079 2.422 0 .72-.274 1.368-.265.64-.976 1.515-.196.227-1.243 1.313-1.046 1.078-2.953 3.023z\" /></g><g transform=\"translate(0, 245) scale(0.75, 0.75)\" fill=\"#e5e5e5\" stroke=\"#e5e5e5\"><path d=\"M11.434 22.035q1.132.242 1.765 1.008.64.766.64 1.89 0 1.727-1.187 2.672-1.187.946-3.375.946-.734 0-1.515-.149-.774-.14-1.602-.43V26.45q.656.383 1.438.578.78.196 1.632.196 1.485 0 2.258-.586.782-.586.782-1.703 0-1.032-.727-1.61-.719-.586-2.008-.586h-1.36v-1.297h1.423q1.164 0 1.78-.46.618-.47.618-1.344 0-.899-.64-1.375-.633-.485-1.82-.485-.65 0-1.391.141-.743.14-1.633.437V16.95q.898-.25 1.68-.375.788-.125 1.484-.125 1.797 0 2.844.82 1.046.813 1.046 2.204 0 .968-.554 1.64-.555.664-1.578.922z\" /></g><g transform=\"translate(375, 245) scale(0.75, 0.75)\" fill=\"#e5e5e5\" stroke=\"#e5e5e5\"><path d=\"M11.434 22.035q1.132.242 1.765 1.008.64.766.64 1.89 0 1.727-1.187 2.672-1.187.946-3.375.946-.734 0-1.515-.149-.774-.14-1.602-.43V26.45q.656.383 1.438.578.78.196 1.632.196 1.485 0 2.258-.586.782-.586.782-1.703 0-1.032-.727-1.61-.719-.586-2.008-.586h-1.36v-1.297h1.423q1.164 0 1.78-.46.618-.47.618-1.344 0-.899-.64-1.375-.633-.485-1.82-.485-.65 0-1.391.141-.743.14-1.633.437V16.95q.898-.25 1.68-.375.788-.125 1.484-.125 1.797 0 2.844.82 1.046.813 1.046 2.204 0 .968-.554 1.64-.555.664-1.578.922z\" /></g><g transform=\"translate(0, 200) scale(0.75, 0.75)\" fill=\"#e5e5e5\" stroke=\"#e5e5e5\"><path d=\"M11.016 18.035L7.03 24.262h3.985zm-.414-1.375h1.984v7.602h1.664v1.312h-1.664v2.75h-1.57v-2.75H5.75v-1.523z\" /></g><g transform=\"translate(375, 200) scale(0.75, 0.75)\" fill=\"#e5e5e5\" stroke=\"#e5e5e5\"><path d=\"M11.016 18.035L7.03 24.262h3.985zm-.414-1.375h1.984v7.602h1.664v1.312h-1.664v2.75h-1.57v-2.75H5.75v-1.523z\" /></g><g transform=\"translate(0, 155) scale(0.75, 0.75)\" fill=\"#e5e5e5\" stroke=\"#e5e5e5\"><path d=\"M6.719 16.66h6.195v1.328h-4.75v2.86q.344-.118.688-.172.343-.063.687-.063 1.953 0 3.094 1.07 1.14 1.07 1.14 2.899 0 1.883-1.171 2.93-1.172 1.039-3.305 1.039-.735 0-1.5-.125-.758-.125-1.57-.375v-1.586q.703.383 1.453.57.75.188 1.586.188 1.351 0 2.14-.711.79-.711.79-1.93 0-1.219-.79-1.93-.789-.71-2.14-.71-.633 0-1.266.14-.625.14-1.281.438z\" /></g><g transform=\"translate(375, 155) scale(0.75, 0.75)\" fill=\"#e5e5e5\" stroke=\"#e5e5e5\"><path d=\"M6.719 16.66h6.195v1.328h-4.75v2.86q.344-.118.688-.172.343-.063.687-.063 1.953 0 3.094 1.07 1.14 1.07 1.14 2.899 0 1.883-1.171 2.93-1.172 1.039-3.305 1.039-.735 0-1.5-.125-.758-.125-1.57-.375v-1.586q.703.383 1.453.57.75.188 1.586.188 1.351 0 2.14-.711.79-.711.79-1.93 0-1.219-.79-1.93-.789-.71-2.14-.71-.633 0-1.266.14-.625.14-1.281.438z\" /></g><g transform=\"translate(0, 110) scale(0.75, 0.75)\" fill=\"#e5e5e5\" stroke=\"#e5e5e5\"><path d=\"M10.137 21.863q-1.063 0-1.688.727-.617.726-.617 1.992 0 1.258.617 1.992.625.727 1.688.727 1.062 0 1.68-.727.624-.734.624-1.992 0-1.266-.625-1.992-.617-.727-1.68-.727zm3.133-4.945v1.437q-.594-.28-1.204-.43-.601-.148-1.195-.148-1.562 0-2.39 1.055-.82 1.055-.938 3.188.46-.68 1.156-1.04.696-.367 1.531-.367 1.758 0 2.774 1.07 1.023 1.063 1.023 2.899 0 1.797-1.062 2.883-1.063 1.086-2.828 1.086-2.024 0-3.094-1.547-1.07-1.555-1.07-4.5 0-2.766 1.312-4.406 1.313-1.649 3.524-1.649.593 0 1.195.117.61.118 1.266.352z\" /></g><g transform=\"translate(375, 110) scale(0.75, 0.75)\" fill=\"#e5e5e5\" stroke=\"#e5e5e5\"><path d=\"M10.137 21.863q-1.063 0-1.688.727-.617.726-.617 1.992 0 1.258.617 1.992.625.727 1.688.727 1.062 0 1.68-.727.624-.734.624-1.992 0-1.266-.625-1.992-.617-.727-1.68-.727zm3.133-4.945v1.437q-.594-.28-1.204-.43-.601-.148-1.195-.148-1.562 0-2.39 1.055-.82 1.055-.938 3.188.46-.68 1.156-1.04.696-.367 1.531-.367 1.758 0 2.774 1.07 1.023 1.063 1.023 2.899 0 1.797-1.062 2.883-1.063 1.086-2.828 1.086-2.024 0-3.094-1.547-1.07-1.555-1.07-4.5 0-2.766 1.312-4.406 1.313-1.649 3.524-1.649.593 0 1.195.117.61.118 1.266.352z\" /></g><g transform=\"translate(0, 65) scale(0.75, 0.75)\" fill=\"#e5e5e5\" stroke=\"#e5e5e5\"><path d=\"M6.25 16.66h7.5v.672L9.516 28.324H7.867l3.985-10.336H6.25z\" /></g><g transform=\"translate(375, 65) scale(0.75, 0.75)\" fill=\"#e5e5e5\" stroke=\"#e5e5e5\"><path d=\"M6.25 16.66h7.5v.672L9.516 28.324H7.867l3.985-10.336H6.25z\" /></g><g transform=\"translate(0, 20) scale(0.75, 0.75)\" fill=\"#e5e5e5\" stroke=\"#e5e5e5\"><path d=\"M10 22.785q-1.125 0-1.773.602-.641.601-.641 1.656t.64 1.656q.649.602 1.774.602t1.773-.602q.649-.61.649-1.656 0-1.055-.649-1.656-.64-.602-1.773-.602zm-1.578-.672q-1.016-.25-1.586-.945-.563-.695-.563-1.695 0-1.399.993-2.211 1-.813 2.734-.813 1.742 0 2.734.813.993.812.993 2.21 0 1-.57 1.696-.563.695-1.571.945 1.14.266 1.773 1.04.641.773.641 1.89 0 1.695-1.04 2.602-1.03.906-2.96.906t-2.969-.906Q6 26.738 6 25.043q0-1.117.64-1.89.641-.774 1.782-1.04zm-.578-2.492q0 .906.562 1.414.57.508 1.594.508 1.016 0 1.586-.508.578-.508.578-1.414 0-.906-.578-1.414-.57-.508-1.586-.508-1.023 0-1.594.508-.562.508-.562 1.414z\" /></g><g transform=\"translate(375, 20) scale(0.75, 0.75)\" fill=\"#e5e5e5\" stroke=\"#e5e5e5\"><path d=\"M10 22.785q-1.125 0-1.773.602-.641.601-.641 1.656t.64 1.656q.649.602 1.774.602t1.773-.602q.649-.61.649-1.656 0-1.055-.649-1.656-.64-.602-1.773-.602zm-1.578-.672q-1.016-.25-1.586-.945-.563-.695-.563-1.695 0-1.399.993-2.211 1-.813 2.734-.813 1.742 0 2.734.813.993.812.993 2.21 0 1-.57 1.696-.563.695-1.571.945 1.14.266 1.773 1.04.641.773.641 1.89 0 1.695-1.04 2.602-1.03.906-2.96.906t-2.969-.906Q6 26.738 6 25.043q0-1.117.64-1.89.641-.774 1.782-1.04zm-.578-2.492q0 .906.562 1.414.57.508 1.594.508 1.016 0 1.586-.508.578-.508.578-1.414 0-.906-.578-1.414-.57-.508-1.586-.508-1.023 0-1.594.508-.562.508-.562 1.414z\" /></g><rect x=\"15\" y=\"330\" width=\"45\" height=\"45\" class=\"square dark a1\" stroke=\"none\" fill=\"#d18b47\" /><rect x=\"60\" y=\"330\" width=\"45\" height=\"45\" class=\"square light b1\" stroke=\"none\" fill=\"#ffce9e\" /><rect x=\"105\" y=\"330\" width=\"45\" height=\"45\" class=\"square dark c1\" stroke=\"none\" fill=\"#d18b47\" /><rect x=\"150\" y=\"330\" width=\"45\" height=\"45\" class=\"square light d1\" stroke=\"none\" fill=\"#ffce9e\" /><rect x=\"195\" y=\"330\" width=\"45\" height=\"45\" class=\"square dark e1\" stroke=\"none\" fill=\"#d18b47\" /><rect x=\"240\" y=\"330\" width=\"45\" height=\"45\" class=\"square light f1\" stroke=\"none\" fill=\"#ffce9e\" /><rect x=\"285\" y=\"330\" width=\"45\" height=\"45\" class=\"square dark g1\" stroke=\"none\" fill=\"#d18b47\" /><rect x=\"330\" y=\"330\" width=\"45\" height=\"45\" class=\"square light h1\" stroke=\"none\" fill=\"#ffce9e\" /><rect x=\"15\" y=\"285\" width=\"45\" height=\"45\" class=\"square light a2\" stroke=\"none\" fill=\"#ffce9e\" /><rect x=\"60\" y=\"285\" width=\"45\" height=\"45\" class=\"square dark b2\" stroke=\"none\" fill=\"#d18b47\" /><rect x=\"105\" y=\"285\" width=\"45\" height=\"45\" class=\"square light c2\" stroke=\"none\" fill=\"#ffce9e\" /><rect x=\"150\" y=\"285\" width=\"45\" height=\"45\" class=\"square dark d2\" stroke=\"none\" fill=\"#d18b47\" /><rect x=\"195\" y=\"285\" width=\"45\" height=\"45\" class=\"square light e2\" stroke=\"none\" fill=\"#ffce9e\" /><rect x=\"240\" y=\"285\" width=\"45\" height=\"45\" class=\"square dark f2\" stroke=\"none\" fill=\"#d18b47\" /><rect x=\"285\" y=\"285\" width=\"45\" height=\"45\" class=\"square light g2\" stroke=\"none\" fill=\"#ffce9e\" /><rect x=\"330\" y=\"285\" width=\"45\" height=\"45\" class=\"square dark h2\" stroke=\"none\" fill=\"#d18b47\" /><rect x=\"15\" y=\"240\" width=\"45\" height=\"45\" class=\"square dark a3\" stroke=\"none\" fill=\"#d18b47\" /><rect x=\"60\" y=\"240\" width=\"45\" height=\"45\" class=\"square light b3\" stroke=\"none\" fill=\"#ffce9e\" /><rect x=\"105\" y=\"240\" width=\"45\" height=\"45\" class=\"square dark c3\" stroke=\"none\" fill=\"#d18b47\" /><rect x=\"150\" y=\"240\" width=\"45\" height=\"45\" class=\"square light d3\" stroke=\"none\" fill=\"#ffce9e\" /><rect x=\"195\" y=\"240\" width=\"45\" height=\"45\" class=\"square dark e3\" stroke=\"none\" fill=\"#d18b47\" /><rect x=\"240\" y=\"240\" width=\"45\" height=\"45\" class=\"square light f3\" stroke=\"none\" fill=\"#ffce9e\" /><rect x=\"285\" y=\"240\" width=\"45\" height=\"45\" class=\"square dark g3\" stroke=\"none\" fill=\"#d18b47\" /><rect x=\"330\" y=\"240\" width=\"45\" height=\"45\" class=\"square light h3\" stroke=\"none\" fill=\"#ffce9e\" /><rect x=\"15\" y=\"195\" width=\"45\" height=\"45\" class=\"square light a4\" stroke=\"none\" fill=\"#ffce9e\" /><rect x=\"60\" y=\"195\" width=\"45\" height=\"45\" class=\"square dark b4\" stroke=\"none\" fill=\"#d18b47\" /><rect x=\"105\" y=\"195\" width=\"45\" height=\"45\" class=\"square light c4\" stroke=\"none\" fill=\"#ffce9e\" /><rect x=\"150\" y=\"195\" width=\"45\" height=\"45\" class=\"square dark d4\" stroke=\"none\" fill=\"#d18b47\" /><rect x=\"195\" y=\"195\" width=\"45\" height=\"45\" class=\"square light e4\" stroke=\"none\" fill=\"#ffce9e\" /><rect x=\"240\" y=\"195\" width=\"45\" height=\"45\" class=\"square dark f4\" stroke=\"none\" fill=\"#d18b47\" /><rect x=\"285\" y=\"195\" width=\"45\" height=\"45\" class=\"square light g4\" stroke=\"none\" fill=\"#ffce9e\" /><rect x=\"330\" y=\"195\" width=\"45\" height=\"45\" class=\"square dark h4\" stroke=\"none\" fill=\"#d18b47\" /><rect x=\"15\" y=\"150\" width=\"45\" height=\"45\" class=\"square dark a5\" stroke=\"none\" fill=\"#d18b47\" /><rect x=\"60\" y=\"150\" width=\"45\" height=\"45\" class=\"square light b5\" stroke=\"none\" fill=\"#ffce9e\" /><rect x=\"105\" y=\"150\" width=\"45\" height=\"45\" class=\"square dark c5\" stroke=\"none\" fill=\"#d18b47\" /><rect x=\"150\" y=\"150\" width=\"45\" height=\"45\" class=\"square light d5\" stroke=\"none\" fill=\"#ffce9e\" /><rect x=\"195\" y=\"150\" width=\"45\" height=\"45\" class=\"square dark e5\" stroke=\"none\" fill=\"#d18b47\" /><rect x=\"240\" y=\"150\" width=\"45\" height=\"45\" class=\"square light f5\" stroke=\"none\" fill=\"#ffce9e\" /><rect x=\"285\" y=\"150\" width=\"45\" height=\"45\" class=\"square dark g5\" stroke=\"none\" fill=\"#d18b47\" /><rect x=\"330\" y=\"150\" width=\"45\" height=\"45\" class=\"square light h5\" stroke=\"none\" fill=\"#ffce9e\" /><rect x=\"15\" y=\"105\" width=\"45\" height=\"45\" class=\"square light a6\" stroke=\"none\" fill=\"#ffce9e\" /><rect x=\"60\" y=\"105\" width=\"45\" height=\"45\" class=\"square dark b6\" stroke=\"none\" fill=\"#d18b47\" /><rect x=\"105\" y=\"105\" width=\"45\" height=\"45\" class=\"square light c6\" stroke=\"none\" fill=\"#ffce9e\" /><rect x=\"150\" y=\"105\" width=\"45\" height=\"45\" class=\"square dark d6\" stroke=\"none\" fill=\"#d18b47\" /><rect x=\"195\" y=\"105\" width=\"45\" height=\"45\" class=\"square light e6\" stroke=\"none\" fill=\"#ffce9e\" /><rect x=\"240\" y=\"105\" width=\"45\" height=\"45\" class=\"square dark f6\" stroke=\"none\" fill=\"#d18b47\" /><rect x=\"285\" y=\"105\" width=\"45\" height=\"45\" class=\"square light g6\" stroke=\"none\" fill=\"#ffce9e\" /><rect x=\"330\" y=\"105\" width=\"45\" height=\"45\" class=\"square dark h6\" stroke=\"none\" fill=\"#d18b47\" /><rect x=\"15\" y=\"60\" width=\"45\" height=\"45\" class=\"square dark a7\" stroke=\"none\" fill=\"#d18b47\" /><rect x=\"60\" y=\"60\" width=\"45\" height=\"45\" class=\"square light b7\" stroke=\"none\" fill=\"#ffce9e\" /><rect x=\"105\" y=\"60\" width=\"45\" height=\"45\" class=\"square dark c7\" stroke=\"none\" fill=\"#d18b47\" /><rect x=\"150\" y=\"60\" width=\"45\" height=\"45\" class=\"square light d7\" stroke=\"none\" fill=\"#ffce9e\" /><rect x=\"195\" y=\"60\" width=\"45\" height=\"45\" class=\"square dark e7\" stroke=\"none\" fill=\"#d18b47\" /><rect x=\"240\" y=\"60\" width=\"45\" height=\"45\" class=\"square light f7\" stroke=\"none\" fill=\"#ffce9e\" /><rect x=\"285\" y=\"60\" width=\"45\" height=\"45\" class=\"square dark g7\" stroke=\"none\" fill=\"#d18b47\" /><rect x=\"330\" y=\"60\" width=\"45\" height=\"45\" class=\"square light h7\" stroke=\"none\" fill=\"#ffce9e\" /><rect x=\"15\" y=\"15\" width=\"45\" height=\"45\" class=\"square light a8\" stroke=\"none\" fill=\"#ffce9e\" /><rect x=\"60\" y=\"15\" width=\"45\" height=\"45\" class=\"square dark b8\" stroke=\"none\" fill=\"#d18b47\" /><rect x=\"105\" y=\"15\" width=\"45\" height=\"45\" class=\"square light c8\" stroke=\"none\" fill=\"#ffce9e\" /><rect x=\"150\" y=\"15\" width=\"45\" height=\"45\" class=\"square dark d8\" stroke=\"none\" fill=\"#d18b47\" /><rect x=\"195\" y=\"15\" width=\"45\" height=\"45\" class=\"square light e8\" stroke=\"none\" fill=\"#ffce9e\" /><rect x=\"240\" y=\"15\" width=\"45\" height=\"45\" class=\"square dark f8\" stroke=\"none\" fill=\"#d18b47\" /><rect x=\"285\" y=\"15\" width=\"45\" height=\"45\" class=\"square light g8\" stroke=\"none\" fill=\"#ffce9e\" /><rect x=\"330\" y=\"15\" width=\"45\" height=\"45\" class=\"square dark h8\" stroke=\"none\" fill=\"#d18b47\" /><use href=\"#white-rook\" xlink:href=\"#white-rook\" transform=\"translate(15, 330)\" /><use href=\"#white-knight\" xlink:href=\"#white-knight\" transform=\"translate(60, 330)\" /><use href=\"#white-bishop\" xlink:href=\"#white-bishop\" transform=\"translate(105, 330)\" /><use href=\"#white-queen\" xlink:href=\"#white-queen\" transform=\"translate(150, 330)\" /><use href=\"#white-king\" xlink:href=\"#white-king\" transform=\"translate(195, 330)\" /><use href=\"#white-bishop\" xlink:href=\"#white-bishop\" transform=\"translate(240, 330)\" /><use href=\"#white-knight\" xlink:href=\"#white-knight\" transform=\"translate(285, 330)\" /><use href=\"#white-rook\" xlink:href=\"#white-rook\" transform=\"translate(330, 330)\" /><use href=\"#white-pawn\" xlink:href=\"#white-pawn\" transform=\"translate(15, 285)\" /><use href=\"#white-pawn\" xlink:href=\"#white-pawn\" transform=\"translate(60, 285)\" /><use href=\"#white-pawn\" xlink:href=\"#white-pawn\" transform=\"translate(105, 285)\" /><use href=\"#white-pawn\" xlink:href=\"#white-pawn\" transform=\"translate(150, 285)\" /><use href=\"#white-pawn\" xlink:href=\"#white-pawn\" transform=\"translate(195, 285)\" /><use href=\"#white-pawn\" xlink:href=\"#white-pawn\" transform=\"translate(240, 285)\" /><use href=\"#white-pawn\" xlink:href=\"#white-pawn\" transform=\"translate(285, 285)\" /><use href=\"#white-pawn\" xlink:href=\"#white-pawn\" transform=\"translate(330, 285)\" /><use href=\"#black-pawn\" xlink:href=\"#black-pawn\" transform=\"translate(15, 60)\" /><use href=\"#black-pawn\" xlink:href=\"#black-pawn\" transform=\"translate(60, 60)\" /><use href=\"#black-pawn\" xlink:href=\"#black-pawn\" transform=\"translate(105, 60)\" /><use href=\"#black-pawn\" xlink:href=\"#black-pawn\" transform=\"translate(150, 60)\" /><use href=\"#black-pawn\" xlink:href=\"#black-pawn\" transform=\"translate(195, 60)\" /><use href=\"#black-pawn\" xlink:href=\"#black-pawn\" transform=\"translate(240, 60)\" /><use href=\"#black-pawn\" xlink:href=\"#black-pawn\" transform=\"translate(285, 60)\" /><use href=\"#black-pawn\" xlink:href=\"#black-pawn\" transform=\"translate(330, 60)\" /><use href=\"#black-rook\" xlink:href=\"#black-rook\" transform=\"translate(15, 15)\" /><use href=\"#black-knight\" xlink:href=\"#black-knight\" transform=\"translate(60, 15)\" /><use href=\"#black-bishop\" xlink:href=\"#black-bishop\" transform=\"translate(105, 15)\" /><use href=\"#black-queen\" xlink:href=\"#black-queen\" transform=\"translate(150, 15)\" /><use href=\"#black-king\" xlink:href=\"#black-king\" transform=\"translate(195, 15)\" /><use href=\"#black-bishop\" xlink:href=\"#black-bishop\" transform=\"translate(240, 15)\" /><use href=\"#black-knight\" xlink:href=\"#black-knight\" transform=\"translate(285, 15)\" /><use href=\"#black-rook\" xlink:href=\"#black-rook\" transform=\"translate(330, 15)\" /></svg>"
      ],
      "text/plain": [
       "Board('rnbqkbnr/pppppppp/8/8/8/8/PPPPPPPP/RNBQKBNR w KQkq - 0 1')"
      ]
     },
     "execution_count": 2,
     "metadata": {},
     "output_type": "execute_result"
    }
   ],
   "source": [
    "def getPieceMaskBoard(piece, color):\n",
    "    maps = chess.Board().pieces_mask(piece, color)\n",
    "    maps = list(bin(maps)[2:])\n",
    "    return np.reshape(np.array([0 for _ in range(64-len(maps))]+maps, dtype=np.int8), (8, 8))[:,::-1]\n",
    "\n",
    "def getBoard(board:list, piece:str, repr:str, color=0) -> chess.Board:\n",
    "    fen=''\n",
    "    for i in range(8):\n",
    "        count = 0\n",
    "        for j in range(8):\n",
    "            v = board[i][j]\n",
    "            if v == 0:\n",
    "                count += 1\n",
    "            else:\n",
    "                if count != 0:\n",
    "                    fen += str(count)\n",
    "                    count = 0\n",
    "                if repr == 'single': fen += [piece if color==0 else piece.upper()][0]\n",
    "                elif repr == 'double': fen += [piece if v < 0 else piece.upper()][0]\n",
    "        if count != 0 :\n",
    "            fen += str(count)\n",
    "        fen+='/'\n",
    "    return chess.Board(fen[:-1])\n",
    "\n",
    "def getSquareName(position:list) -> str: # position deve ser 'ONE-HOT', apenas uma peça\n",
    "    position = position[:,::-1].flatten()\n",
    "    square = 63 - list(position).index(1)\n",
    "    return chess.square_name(square)\n",
    "\n",
    "pieces_names = [piece.upper() for piece in chess.PIECE_NAMES[1:]]\n",
    "pieces_colors = [color.upper() for color in chess.COLOR_NAMES]\n",
    "pieces_symbols = chess.PIECE_SYMBOLS[1:]\n",
    "print(pieces_names,'\\n',\n",
    "      pieces_colors,'\\n',\n",
    "      pieces_symbols\n",
    ")\n",
    "chess.Board()"
   ]
  },
  {
   "cell_type": "markdown",
   "metadata": {},
   "source": [
    "#### 12 Matrizes "
   ]
  },
  {
   "cell_type": "code",
   "execution_count": 3,
   "metadata": {},
   "outputs": [
    {
     "data": {
      "text/plain": [
       "array([[0, 0, 0, 0, 0, 0, 0, 0],\n",
       "       [1, 1, 1, 1, 1, 1, 1, 1],\n",
       "       [0, 0, 0, 0, 0, 0, 0, 0],\n",
       "       [0, 0, 0, 0, 0, 0, 0, 0],\n",
       "       [0, 0, 0, 0, 0, 0, 0, 0],\n",
       "       [0, 0, 0, 0, 0, 0, 0, 0],\n",
       "       [0, 0, 0, 0, 0, 0, 0, 0],\n",
       "       [0, 0, 0, 0, 0, 0, 0, 0]], dtype=int8)"
      ]
     },
     "metadata": {},
     "output_type": "display_data"
    },
    {
     "data": {
      "text/plain": [
       "'p'"
      ]
     },
     "metadata": {},
     "output_type": "display_data"
    },
    {
     "data": {
      "text/plain": [
       "'single'"
      ]
     },
     "metadata": {},
     "output_type": "display_data"
    },
    {
     "data": {
      "text/plain": [
       "0"
      ]
     },
     "metadata": {},
     "output_type": "display_data"
    },
    {
     "data": {
      "text/plain": [
       "array([[0, 1, 0, 0, 0, 0, 1, 0],\n",
       "       [0, 0, 0, 0, 0, 0, 0, 0],\n",
       "       [0, 0, 0, 0, 0, 0, 0, 0],\n",
       "       [0, 0, 0, 0, 0, 0, 0, 0],\n",
       "       [0, 0, 0, 0, 0, 0, 0, 0],\n",
       "       [0, 0, 0, 0, 0, 0, 0, 0],\n",
       "       [0, 0, 0, 0, 0, 0, 0, 0],\n",
       "       [0, 0, 0, 0, 0, 0, 0, 0]], dtype=int8)"
      ]
     },
     "metadata": {},
     "output_type": "display_data"
    },
    {
     "data": {
      "text/plain": [
       "'n'"
      ]
     },
     "metadata": {},
     "output_type": "display_data"
    },
    {
     "data": {
      "text/plain": [
       "'single'"
      ]
     },
     "metadata": {},
     "output_type": "display_data"
    },
    {
     "data": {
      "text/plain": [
       "0"
      ]
     },
     "metadata": {},
     "output_type": "display_data"
    },
    {
     "data": {
      "text/plain": [
       "array([[0, 0, 1, 0, 0, 1, 0, 0],\n",
       "       [0, 0, 0, 0, 0, 0, 0, 0],\n",
       "       [0, 0, 0, 0, 0, 0, 0, 0],\n",
       "       [0, 0, 0, 0, 0, 0, 0, 0],\n",
       "       [0, 0, 0, 0, 0, 0, 0, 0],\n",
       "       [0, 0, 0, 0, 0, 0, 0, 0],\n",
       "       [0, 0, 0, 0, 0, 0, 0, 0],\n",
       "       [0, 0, 0, 0, 0, 0, 0, 0]], dtype=int8)"
      ]
     },
     "metadata": {},
     "output_type": "display_data"
    },
    {
     "data": {
      "text/plain": [
       "'b'"
      ]
     },
     "metadata": {},
     "output_type": "display_data"
    },
    {
     "data": {
      "text/plain": [
       "'single'"
      ]
     },
     "metadata": {},
     "output_type": "display_data"
    },
    {
     "data": {
      "text/plain": [
       "0"
      ]
     },
     "metadata": {},
     "output_type": "display_data"
    },
    {
     "data": {
      "text/plain": [
       "array([[1, 0, 0, 0, 0, 0, 0, 1],\n",
       "       [0, 0, 0, 0, 0, 0, 0, 0],\n",
       "       [0, 0, 0, 0, 0, 0, 0, 0],\n",
       "       [0, 0, 0, 0, 0, 0, 0, 0],\n",
       "       [0, 0, 0, 0, 0, 0, 0, 0],\n",
       "       [0, 0, 0, 0, 0, 0, 0, 0],\n",
       "       [0, 0, 0, 0, 0, 0, 0, 0],\n",
       "       [0, 0, 0, 0, 0, 0, 0, 0]], dtype=int8)"
      ]
     },
     "metadata": {},
     "output_type": "display_data"
    },
    {
     "data": {
      "text/plain": [
       "'r'"
      ]
     },
     "metadata": {},
     "output_type": "display_data"
    },
    {
     "data": {
      "text/plain": [
       "'single'"
      ]
     },
     "metadata": {},
     "output_type": "display_data"
    },
    {
     "data": {
      "text/plain": [
       "0"
      ]
     },
     "metadata": {},
     "output_type": "display_data"
    },
    {
     "data": {
      "text/plain": [
       "array([[0, 0, 0, 1, 0, 0, 0, 0],\n",
       "       [0, 0, 0, 0, 0, 0, 0, 0],\n",
       "       [0, 0, 0, 0, 0, 0, 0, 0],\n",
       "       [0, 0, 0, 0, 0, 0, 0, 0],\n",
       "       [0, 0, 0, 0, 0, 0, 0, 0],\n",
       "       [0, 0, 0, 0, 0, 0, 0, 0],\n",
       "       [0, 0, 0, 0, 0, 0, 0, 0],\n",
       "       [0, 0, 0, 0, 0, 0, 0, 0]], dtype=int8)"
      ]
     },
     "metadata": {},
     "output_type": "display_data"
    },
    {
     "data": {
      "text/plain": [
       "'q'"
      ]
     },
     "metadata": {},
     "output_type": "display_data"
    },
    {
     "data": {
      "text/plain": [
       "'single'"
      ]
     },
     "metadata": {},
     "output_type": "display_data"
    },
    {
     "data": {
      "text/plain": [
       "0"
      ]
     },
     "metadata": {},
     "output_type": "display_data"
    },
    {
     "data": {
      "text/plain": [
       "array([[0, 0, 0, 0, 1, 0, 0, 0],\n",
       "       [0, 0, 0, 0, 0, 0, 0, 0],\n",
       "       [0, 0, 0, 0, 0, 0, 0, 0],\n",
       "       [0, 0, 0, 0, 0, 0, 0, 0],\n",
       "       [0, 0, 0, 0, 0, 0, 0, 0],\n",
       "       [0, 0, 0, 0, 0, 0, 0, 0],\n",
       "       [0, 0, 0, 0, 0, 0, 0, 0],\n",
       "       [0, 0, 0, 0, 0, 0, 0, 0]], dtype=int8)"
      ]
     },
     "metadata": {},
     "output_type": "display_data"
    },
    {
     "data": {
      "text/plain": [
       "'k'"
      ]
     },
     "metadata": {},
     "output_type": "display_data"
    },
    {
     "data": {
      "text/plain": [
       "'single'"
      ]
     },
     "metadata": {},
     "output_type": "display_data"
    },
    {
     "data": {
      "text/plain": [
       "0"
      ]
     },
     "metadata": {},
     "output_type": "display_data"
    },
    {
     "data": {
      "text/plain": [
       "array([[0, 0, 0, 0, 0, 0, 0, 0],\n",
       "       [0, 0, 0, 0, 0, 0, 0, 0],\n",
       "       [0, 0, 0, 0, 0, 0, 0, 0],\n",
       "       [0, 0, 0, 0, 0, 0, 0, 0],\n",
       "       [0, 0, 0, 0, 0, 0, 0, 0],\n",
       "       [0, 0, 0, 0, 0, 0, 0, 0],\n",
       "       [1, 1, 1, 1, 1, 1, 1, 1],\n",
       "       [0, 0, 0, 0, 0, 0, 0, 0]], dtype=int8)"
      ]
     },
     "metadata": {},
     "output_type": "display_data"
    },
    {
     "data": {
      "text/plain": [
       "'p'"
      ]
     },
     "metadata": {},
     "output_type": "display_data"
    },
    {
     "data": {
      "text/plain": [
       "'single'"
      ]
     },
     "metadata": {},
     "output_type": "display_data"
    },
    {
     "data": {
      "text/plain": [
       "1"
      ]
     },
     "metadata": {},
     "output_type": "display_data"
    },
    {
     "data": {
      "text/plain": [
       "array([[0, 0, 0, 0, 0, 0, 0, 0],\n",
       "       [0, 0, 0, 0, 0, 0, 0, 0],\n",
       "       [0, 0, 0, 0, 0, 0, 0, 0],\n",
       "       [0, 0, 0, 0, 0, 0, 0, 0],\n",
       "       [0, 0, 0, 0, 0, 0, 0, 0],\n",
       "       [0, 0, 0, 0, 0, 0, 0, 0],\n",
       "       [0, 0, 0, 0, 0, 0, 0, 0],\n",
       "       [0, 1, 0, 0, 0, 0, 1, 0]], dtype=int8)"
      ]
     },
     "metadata": {},
     "output_type": "display_data"
    },
    {
     "data": {
      "text/plain": [
       "'n'"
      ]
     },
     "metadata": {},
     "output_type": "display_data"
    },
    {
     "data": {
      "text/plain": [
       "'single'"
      ]
     },
     "metadata": {},
     "output_type": "display_data"
    },
    {
     "data": {
      "text/plain": [
       "1"
      ]
     },
     "metadata": {},
     "output_type": "display_data"
    },
    {
     "data": {
      "text/plain": [
       "array([[0, 0, 0, 0, 0, 0, 0, 0],\n",
       "       [0, 0, 0, 0, 0, 0, 0, 0],\n",
       "       [0, 0, 0, 0, 0, 0, 0, 0],\n",
       "       [0, 0, 0, 0, 0, 0, 0, 0],\n",
       "       [0, 0, 0, 0, 0, 0, 0, 0],\n",
       "       [0, 0, 0, 0, 0, 0, 0, 0],\n",
       "       [0, 0, 0, 0, 0, 0, 0, 0],\n",
       "       [0, 0, 1, 0, 0, 1, 0, 0]], dtype=int8)"
      ]
     },
     "metadata": {},
     "output_type": "display_data"
    },
    {
     "data": {
      "text/plain": [
       "'b'"
      ]
     },
     "metadata": {},
     "output_type": "display_data"
    },
    {
     "data": {
      "text/plain": [
       "'single'"
      ]
     },
     "metadata": {},
     "output_type": "display_data"
    },
    {
     "data": {
      "text/plain": [
       "1"
      ]
     },
     "metadata": {},
     "output_type": "display_data"
    },
    {
     "data": {
      "text/plain": [
       "array([[0, 0, 0, 0, 0, 0, 0, 0],\n",
       "       [0, 0, 0, 0, 0, 0, 0, 0],\n",
       "       [0, 0, 0, 0, 0, 0, 0, 0],\n",
       "       [0, 0, 0, 0, 0, 0, 0, 0],\n",
       "       [0, 0, 0, 0, 0, 0, 0, 0],\n",
       "       [0, 0, 0, 0, 0, 0, 0, 0],\n",
       "       [0, 0, 0, 0, 0, 0, 0, 0],\n",
       "       [1, 0, 0, 0, 0, 0, 0, 1]], dtype=int8)"
      ]
     },
     "metadata": {},
     "output_type": "display_data"
    },
    {
     "data": {
      "text/plain": [
       "'r'"
      ]
     },
     "metadata": {},
     "output_type": "display_data"
    },
    {
     "data": {
      "text/plain": [
       "'single'"
      ]
     },
     "metadata": {},
     "output_type": "display_data"
    },
    {
     "data": {
      "text/plain": [
       "1"
      ]
     },
     "metadata": {},
     "output_type": "display_data"
    },
    {
     "data": {
      "text/plain": [
       "array([[0, 0, 0, 0, 0, 0, 0, 0],\n",
       "       [0, 0, 0, 0, 0, 0, 0, 0],\n",
       "       [0, 0, 0, 0, 0, 0, 0, 0],\n",
       "       [0, 0, 0, 0, 0, 0, 0, 0],\n",
       "       [0, 0, 0, 0, 0, 0, 0, 0],\n",
       "       [0, 0, 0, 0, 0, 0, 0, 0],\n",
       "       [0, 0, 0, 0, 0, 0, 0, 0],\n",
       "       [0, 0, 0, 1, 0, 0, 0, 0]], dtype=int8)"
      ]
     },
     "metadata": {},
     "output_type": "display_data"
    },
    {
     "data": {
      "text/plain": [
       "'q'"
      ]
     },
     "metadata": {},
     "output_type": "display_data"
    },
    {
     "data": {
      "text/plain": [
       "'single'"
      ]
     },
     "metadata": {},
     "output_type": "display_data"
    },
    {
     "data": {
      "text/plain": [
       "1"
      ]
     },
     "metadata": {},
     "output_type": "display_data"
    },
    {
     "data": {
      "text/plain": [
       "array([[0, 0, 0, 0, 0, 0, 0, 0],\n",
       "       [0, 0, 0, 0, 0, 0, 0, 0],\n",
       "       [0, 0, 0, 0, 0, 0, 0, 0],\n",
       "       [0, 0, 0, 0, 0, 0, 0, 0],\n",
       "       [0, 0, 0, 0, 0, 0, 0, 0],\n",
       "       [0, 0, 0, 0, 0, 0, 0, 0],\n",
       "       [0, 0, 0, 0, 0, 0, 0, 0],\n",
       "       [0, 0, 0, 0, 1, 0, 0, 0]], dtype=int8)"
      ]
     },
     "metadata": {},
     "output_type": "display_data"
    },
    {
     "data": {
      "text/plain": [
       "'k'"
      ]
     },
     "metadata": {},
     "output_type": "display_data"
    },
    {
     "data": {
      "text/plain": [
       "'single'"
      ]
     },
     "metadata": {},
     "output_type": "display_data"
    },
    {
     "data": {
      "text/plain": [
       "1"
      ]
     },
     "metadata": {},
     "output_type": "display_data"
    }
   ],
   "source": [
    "data = np.array([[[0 for _ in range(8)] for _ in range(8)] for _ in range(12)], dtype=np.int8)\n",
    "\n",
    "for i in range(len(pieces_colors)):\n",
    "    for j in range(len(pieces_names)):\n",
    "        data[6*i+j] = getPieceMaskBoard(getattr(chess, pieces_names[j]), getattr(chess, pieces_colors[i]))\n",
    "        \n",
    "for i in range(2):\n",
    "    for j in range(6):\n",
    "        display(data[6*i+j],pieces_symbols[j],'single',i)"
   ]
  },
  {
   "cell_type": "markdown",
   "metadata": {},
   "source": [
    "#### 6 Matrizes sem pesos e pretas negativas"
   ]
  },
  {
   "cell_type": "code",
   "execution_count": 4,
   "metadata": {},
   "outputs": [],
   "source": [
    "#data = np.array([[[0 for _ in range(8)] for _ in range(8)] for _ in range(6)], dtype=np.int8)\n",
    "#for i in range(len(pieces_names)):\n",
    "#        data[i] = getPieceMaskBoard(getattr(chess, pieces_names[i]), getattr(chess, pieces_colors[1])) - getPieceMaskBoard(getattr(chess, pieces_names[i]), getattr(chess, pieces_colors[0]))\n",
    "#\n",
    "#board = getBoard(data[0],pieces_symbols[0],'double')\n",
    "#board.push_uci('e2e3')\n",
    "#display(board)\n",
    "#\n",
    "#for i in range(6):\n",
    "#        display(getBoard(data[i],pieces_symbols[i],'double'))"
   ]
  },
  {
   "cell_type": "markdown",
   "metadata": {},
   "source": [
    "#### 1 Matriz com pesos e pretas negativas"
   ]
  },
  {
   "cell_type": "code",
   "execution_count": 5,
   "metadata": {},
   "outputs": [
    {
     "data": {
      "text/plain": [
       "array([[ -5,  -2,  -3,  -9, -38,  -3,  -2,  -5],\n",
       "       [ -1,  -1,  -1,  -1,  -1,  -1,  -1,  -1],\n",
       "       [  0,   0,   0,   0,   0,   0,   0,   0],\n",
       "       [  0,   0,   0,   0,   0,   0,   0,   0],\n",
       "       [  0,   0,   0,   0,   0,   0,   0,   0],\n",
       "       [  0,   0,   0,   0,   0,   0,   0,   0],\n",
       "       [  1,   1,   1,   1,   1,   1,   1,   1],\n",
       "       [  5,   2,   3,   9,  38,   3,   2,   5]])"
      ]
     },
     "execution_count": 5,
     "metadata": {},
     "output_type": "execute_result"
    }
   ],
   "source": [
    "class Board(chess.Board):\n",
    "    PIECES_SYMBOLS = dict(zip([-1,1,-2,2,-3,3,-5,5,-9,9,-38,38], ['p', 'P', 'n', 'N', 'b', 'B', 'r', 'R', 'q', 'Q', 'k', 'K'] ))\n",
    "    PIECES_VALUES = dict(zip(['p', 'P', 'n', 'N', 'b', 'B', 'r', 'R', 'q', 'Q', 'k', 'K'], [-1,1,-2,2,-3,3,-5,5,-9,9,-38,38]))\n",
    "\n",
    "    def __init__(self, boardMatrix:list=None, fenpos:str=\"\", turn:str='w') -> chess.Board:\n",
    "        if boardMatrix is None:\n",
    "            if fenpos == \"\":\n",
    "                super().__init__()\n",
    "            else:\n",
    "                super().__init__(fenpos)\n",
    "        else:\n",
    "            fen=''\n",
    "            for i in range(8):\n",
    "                count = 0\n",
    "                for j in range(8):\n",
    "                    v = boardMatrix[i][j]\n",
    "                    if v == 0:\n",
    "                        count += 1\n",
    "                    else:\n",
    "                        if count != 0:\n",
    "                            fen += str(count)\n",
    "                            count = 0\n",
    "                        fen += self.PIECES_SYMBOLS[v]\n",
    "                if count != 0 :\n",
    "                    fen += str(count)\n",
    "                fen+='/'\n",
    "            fen = fen[:-1] + ' ' + turn\n",
    "            super().__init__(fen)\n",
    "\n",
    "    def show(self):\n",
    "        return display(self)\n",
    "    \n",
    "    def getMatrix(self) -> list:\n",
    "        boardMatrix = np.array([[0 for _ in range(8)] for _ in range(8)])\n",
    "        i,j = 0,0\n",
    "        for p in self.fen().split()[0]:\n",
    "            if p == '/':\n",
    "                j = 0\n",
    "                i += 1\n",
    "            elif p.isnumeric():\n",
    "                for _ in range(int(p)):\n",
    "                    j += 1\n",
    "                    pass\n",
    "            else:\n",
    "                boardMatrix[i][j] = Board.PIECES_VALUES[p]\n",
    "                j += 1\n",
    "        return boardMatrix\n",
    "    \n",
    "    def _getPieceMaskBoard(self, piece, color):\n",
    "        maps = self.pieces_mask(piece, color)\n",
    "        maps = list(bin(maps)[2:])\n",
    "        return np.reshape(np.array([0 for _ in range(64-len(maps))]+maps, dtype=np.int8), (8, 8))[:,::-1]\n",
    "    \n",
    "    def get12Matrix(self) -> np.array:\n",
    "        data = np.array([[[0 for _ in range(8)] for _ in range(8)] for _ in range(12)], dtype=np.int8)\n",
    "\n",
    "        for i in range(len(pieces_colors)):\n",
    "            for j in range(len(pieces_names)):\n",
    "                data[6*i+j] = self._getPieceMaskBoard(getattr(chess, pieces_names[j]), getattr(chess, pieces_colors[i]))\n",
    "                \n",
    "        return data\n",
    "\n",
    "board = Board()\n",
    "board.getMatrix()"
   ]
  },
  {
   "cell_type": "markdown",
   "metadata": {},
   "source": [
    "### Dados de treino e validação"
   ]
  },
  {
   "cell_type": "markdown",
   "metadata": {},
   "source": [
    "#### Analisar para Brancas e Pretas"
   ]
  },
  {
   "cell_type": "markdown",
   "metadata": {},
   "source": [
    "##### Tentar carregar database já compilado"
   ]
  },
  {
   "cell_type": "code",
   "execution_count": 6,
   "metadata": {},
   "outputs": [],
   "source": [
    "try:\n",
    "    with open('./objs/database.pkl', 'rb') as arq:\n",
    "        database = pickle.load(arq)\n",
    "        train_ds = database[0]\n",
    "        train_y = database[1]\n",
    "        val_ds = database[2]\n",
    "        val_y = database[3]\n",
    "        skip_cell = True                 \n",
    "except FileNotFoundError:\n",
    "    skip_cell = False"
   ]
  },
  {
   "cell_type": "markdown",
   "metadata": {},
   "source": [
    "##### Database"
   ]
  },
  {
   "cell_type": "code",
   "execution_count": 7,
   "metadata": {},
   "outputs": [],
   "source": [
    "%%skip $skip_cell\n",
    "\n",
    "train_ds = []\n",
    "train_y = []\n",
    "val_ds = []\n",
    "val_y = []\n",
    "with open('./objs/jogos_avaliados4.txt') as arq:\n",
    "    jogos = arq.readlines()\n",
    "    lenght = len(jogos)\n",
    "    split = .8\n",
    "    for jogo in jogos[:int(split*lenght)]:\n",
    "        jogo = jogo.split(' ')\n",
    "        if jogo[-1] != 'None\\n':\n",
    "            aval = int(jogo[-1]) / 100\n",
    "            pos = jogo[0]\n",
    "            game = Board(fenpos=pos).getMatrix()\n",
    "            game = np.reshape(game, (1, 8, 8))\n",
    "            train_ds.append(game)\n",
    "            train_y.append(aval)\n",
    "    for jogo in jogos[int(split*lenght):]:\n",
    "        jogo = jogo.split(' ')\n",
    "        if jogo[-1] != 'None\\n':\n",
    "            aval = int(jogo[-1]) / 100\n",
    "            pos = jogo[0]\n",
    "            game = Board(fenpos=pos).getMatrix()\n",
    "            game = np.reshape(game, (1, 8, 8))\n",
    "            val_ds.append(game)\n",
    "            val_y.append(aval)\n",
    "\n",
    "\n",
    "train_ds = np.stack(train_ds)\n",
    "train_y = np.stack(train_y)\n",
    "val_ds = np.stack(val_ds)\n",
    "val_y = np.stack(val_y)\n",
    "\n",
    "train_ds.shape,train_y.shape,val_ds.shape,val_y.shape"
   ]
  },
  {
   "cell_type": "markdown",
   "metadata": {},
   "source": [
    "##### Normalização"
   ]
  },
  {
   "cell_type": "code",
   "execution_count": 8,
   "metadata": {},
   "outputs": [],
   "source": [
    "%%skip $skip_cell\n",
    "\n",
    "train_max = np.abs(train_y).max()\n",
    "val_max = np.abs(val_y).max()\n",
    "train_y = train_y / train_max / 2 + 0.5\n",
    "val_y = val_y / val_max / 2 + 0.5\n",
    "\n",
    "database = [train_ds,train_y,val_ds,val_y]\n",
    "\n",
    "with open('./objs/database.pkl', 'wb') as file:\n",
    "    pickle.dump(database, file)\n",
    "\n",
    "train_ds.shape,train_y.shape,val_ds.shape,val_y.shape"
   ]
  },
  {
   "cell_type": "markdown",
   "metadata": {},
   "source": [
    "#### Analisar apenas Brancas"
   ]
  },
  {
   "cell_type": "markdown",
   "metadata": {},
   "source": [
    "##### Tentar carregar database já compilado"
   ]
  },
  {
   "cell_type": "code",
   "execution_count": 9,
   "metadata": {},
   "outputs": [],
   "source": [
    "try:\n",
    "    with open('./objs/databaseForWhite.pkl', 'rb') as arq:\n",
    "        databaseForWhite = pickle.load(arq)\n",
    "        train_ds = database[0]\n",
    "        train_y = database[1]\n",
    "        val_ds = database[2]\n",
    "        val_y = database[3]\n",
    "        skip_cell = True                 \n",
    "except FileNotFoundError:\n",
    "    skip_cell = False"
   ]
  },
  {
   "cell_type": "markdown",
   "metadata": {},
   "source": [
    "##### Database"
   ]
  },
  {
   "cell_type": "code",
   "execution_count": 10,
   "metadata": {},
   "outputs": [],
   "source": [
    "%%skip $skip_cell\n",
    "\n",
    "train_ds = []\n",
    "train_y = []\n",
    "val_ds = []\n",
    "val_y = []\n",
    "with open('./objs/jogos_avaliados4.txt') as arq:\n",
    "    jogos = arq.readlines()\n",
    "    lenght = len(jogos)\n",
    "    split = .8\n",
    "    for jogo in jogos[:int(split*lenght)]:\n",
    "        jogo = jogo.split(' ')\n",
    "        if jogo[-1] != 'None\\n':\n",
    "            aval = int(jogo[-1]) / 100\n",
    "            pos = jogo[0]\n",
    "            game = Board(fenpos=pos).getMatrix()\n",
    "            if jogo[1] == 'b':\n",
    "                game = (-1)*game\n",
    "                aval = (-1)*aval\n",
    "            game = np.reshape(game, (1, 8, 8))\n",
    "            train_ds.append(game)\n",
    "            train_y.append(aval)\n",
    "    for jogo in jogos[int(split*lenght):]:\n",
    "        jogo = jogo.split(' ')\n",
    "        if jogo[-1] != 'None\\n':\n",
    "            aval = int(jogo[-1]) / 100\n",
    "            pos = jogo[0]\n",
    "            game = Board(fenpos=pos).getMatrix()\n",
    "            if jogo[1] == 'b':\n",
    "                game = (-1)*game\n",
    "                aval = (-1)*aval\n",
    "            game = np.reshape(game, (1, 8, 8))\n",
    "            val_ds.append(game)\n",
    "            val_y.append(aval)\n",
    "\n",
    "\n",
    "train_ds = np.stack(train_ds)\n",
    "train_y = np.stack(train_y)\n",
    "val_ds = np.stack(val_ds)\n",
    "val_y = np.stack(val_y)\n",
    "\n",
    "train_ds.shape,train_y.shape,val_ds.shape,val_y.shape"
   ]
  },
  {
   "cell_type": "markdown",
   "metadata": {},
   "source": [
    "##### Normalização"
   ]
  },
  {
   "cell_type": "code",
   "execution_count": 11,
   "metadata": {},
   "outputs": [],
   "source": [
    "%%skip $skip_cell\n",
    "\n",
    "train_max = np.abs(train_y).max()\n",
    "val_max = np.abs(val_y).max()\n",
    "train_y = train_y / train_max / 2 + 0.5\n",
    "val_y = val_y / val_max / 2 + 0.5\n",
    "\n",
    "databaseForWhite = [train_ds,train_y,val_ds,val_y]\n",
    "\n",
    "with open('./objs/databaseForWhite.pkl', 'wb') as file:\n",
    "    pickle.dump(databaseForWhite, file)"
   ]
  },
  {
   "cell_type": "markdown",
   "metadata": {},
   "source": [
    "#### Analisar apenas Pretas"
   ]
  },
  {
   "cell_type": "markdown",
   "metadata": {},
   "source": [
    "##### Tentar carregar database já compilado"
   ]
  },
  {
   "cell_type": "code",
   "execution_count": 12,
   "metadata": {},
   "outputs": [],
   "source": [
    "try:\n",
    "    with open('./objs/databaseForBlack.pkl', 'rb') as arq:\n",
    "        databaseForBlack = pickle.load(arq)\n",
    "        train_ds = database[0]\n",
    "        train_y = database[1]\n",
    "        val_ds = database[2]\n",
    "        val_y = database[3]\n",
    "        skip_cell = True                 \n",
    "except FileNotFoundError:\n",
    "    skip_cell = False"
   ]
  },
  {
   "cell_type": "markdown",
   "metadata": {},
   "source": [
    "##### Database"
   ]
  },
  {
   "cell_type": "code",
   "execution_count": 13,
   "metadata": {},
   "outputs": [],
   "source": [
    "%%skip $skip_cell\n",
    "\n",
    "train_ds = []\n",
    "train_y = []\n",
    "val_ds = []\n",
    "val_y = []\n",
    "with open('./objs/jogos_avaliados4.txt') as arq:\n",
    "    jogos = arq.readlines()\n",
    "    lenght = len(jogos)\n",
    "    split = .8\n",
    "    for jogo in jogos[:int(split*lenght)]:\n",
    "        jogo = jogo.split(' ')\n",
    "        if jogo[-1] != 'None\\n':\n",
    "            aval = int(jogo[-1]) / 100\n",
    "            pos = jogo[0]\n",
    "            game = Board(fenpos=pos).getMatrix()\n",
    "            if jogo[1] == 'w':\n",
    "                game = (-1)*game\n",
    "                aval = (-1)*aval\n",
    "            game = np.reshape(game, (1, 8, 8))\n",
    "            train_ds.append(game)\n",
    "            train_y.append(aval)\n",
    "    for jogo in jogos[int(split*lenght):]:\n",
    "        jogo = jogo.split(' ')\n",
    "        if jogo[-1] != 'None\\n':\n",
    "            aval = int(jogo[-1]) / 100\n",
    "            pos = jogo[0]\n",
    "            game = Board(fenpos=pos).getMatrix()\n",
    "            if jogo[1] == 'w':\n",
    "                game = (-1)*game\n",
    "                aval = (-1)*aval\n",
    "            game = np.reshape(game, (1, 8, 8))\n",
    "            val_ds.append(game)\n",
    "            val_y.append(aval)\n",
    "\n",
    "\n",
    "train_ds = np.stack(train_ds)\n",
    "train_y = np.stack(train_y)\n",
    "val_ds = np.stack(val_ds)\n",
    "val_y = np.stack(val_y)\n",
    "\n",
    "train_ds.shape,train_y.shape,val_ds.shape,val_y.shape"
   ]
  },
  {
   "cell_type": "markdown",
   "metadata": {},
   "source": [
    "##### Normalização"
   ]
  },
  {
   "cell_type": "code",
   "execution_count": 14,
   "metadata": {},
   "outputs": [],
   "source": [
    "%%skip $skip_cell\n",
    "\n",
    "train_max = np.abs(train_y).max()\n",
    "val_max = np.abs(val_y).max()\n",
    "train_y = train_y / train_max / 2 + 0.5\n",
    "val_y = val_y / val_max / 2 + 0.5\n",
    "\n",
    "databaseForBlack = [train_ds,train_y,val_ds,val_y]\n",
    "\n",
    "with open('./objs/databaseForBlack.pkl', 'wb') as file:\n",
    "    pickle.dump(databaseForBlack, file)"
   ]
  },
  {
   "cell_type": "markdown",
   "metadata": {},
   "source": [
    "## Modelo"
   ]
  },
  {
   "cell_type": "markdown",
   "metadata": {},
   "source": [
    "#### Funções"
   ]
  },
  {
   "cell_type": "code",
   "execution_count": 15,
   "metadata": {},
   "outputs": [],
   "source": [
    "def block(x, filters, kernelsize):\n",
    "    fx = layers.Conv2D(filters, kernelsize, activation='relu', padding='same')(x)\n",
    "    fx = layers.BatchNormalization()(fx)\n",
    "    fx = layers.Conv2D(filters, kernelsize, padding='same')(fx)\n",
    "    out = layers.Add()([x,fx])\n",
    "    out = layers.ReLU()(out)\n",
    "    out = layers.BatchNormalization()(out)\n",
    "\n",
    "    return out\n",
    "\n",
    "def modelo(num_blocks, filters, kernelsize):\n",
    "    input_shape = layers.Input(shape=(1, 8, 8))\n",
    "    \n",
    "    x = input_shape\n",
    "    x = layers.Conv2D(filters, kernelsize, activation='relu', padding='same')(x)\n",
    "    for _ in range(num_blocks):\n",
    "        x = block(x, filters, kernelsize)\n",
    "        \n",
    "    x = layers.Flatten()(x)\n",
    "    x = layers.Dense(64, activation='relu')(x)\n",
    "    x = layers.Dense(1, activation='sigmoid')(x)\n",
    "    \n",
    "    return tf.keras.models.Model(inputs=input_shape, outputs=x)"
   ]
  },
  {
   "cell_type": "markdown",
   "metadata": {},
   "source": [
    "## Treinamento"
   ]
  },
  {
   "cell_type": "markdown",
   "metadata": {},
   "source": [
    "### Modelo com 2 Blocos de Convolução"
   ]
  },
  {
   "cell_type": "markdown",
   "metadata": {},
   "source": [
    "#### Tentar carregar modelo já treinado"
   ]
  },
  {
   "cell_type": "code",
   "execution_count": 16,
   "metadata": {},
   "outputs": [],
   "source": [
    "try:\n",
    "    with open('./objs/model2Conv.pkl', 'rb') as arq:\n",
    "        model2Conv = pickle.load(arq)\n",
    "        skip_cell = True                 \n",
    "except FileNotFoundError:\n",
    "    skip_cell = False"
   ]
  },
  {
   "cell_type": "markdown",
   "metadata": {},
   "source": [
    "#### Regularização EarlyStopping"
   ]
  },
  {
   "cell_type": "code",
   "execution_count": 17,
   "metadata": {},
   "outputs": [
    {
     "name": "stdout",
     "output_type": "stream",
     "text": [
      "Epoch 1/100\n",
      "1194/1194 [==============================] - 42s 34ms/step - loss: 0.0016 - val_loss: 8.7143e-04 - lr: 0.0010\n",
      "Epoch 2/100\n",
      "1194/1194 [==============================] - 40s 33ms/step - loss: 5.8867e-04 - val_loss: 6.2008e-04 - lr: 0.0010\n",
      "Epoch 3/100\n",
      "1194/1194 [==============================] - 40s 33ms/step - loss: 4.7846e-04 - val_loss: 4.5866e-04 - lr: 0.0010\n",
      "Epoch 4/100\n",
      "1194/1194 [==============================] - 40s 33ms/step - loss: 4.4899e-04 - val_loss: 4.2178e-04 - lr: 0.0010\n",
      "Epoch 5/100\n",
      "1194/1194 [==============================] - 40s 34ms/step - loss: 4.3555e-04 - val_loss: 4.6733e-04 - lr: 0.0010\n",
      "Epoch 6/100\n",
      "1194/1194 [==============================] - 41s 35ms/step - loss: 4.2443e-04 - val_loss: 4.4091e-04 - lr: 0.0010\n",
      "Epoch 7/100\n",
      "1194/1194 [==============================] - 43s 36ms/step - loss: 4.1936e-04 - val_loss: 4.2076e-04 - lr: 0.0010\n",
      "Epoch 8/100\n",
      "1194/1194 [==============================] - 42s 35ms/step - loss: 4.1227e-04 - val_loss: 4.0829e-04 - lr: 0.0010\n",
      "Epoch 9/100\n",
      "1194/1194 [==============================] - 40s 34ms/step - loss: 4.0517e-04 - val_loss: 4.8353e-04 - lr: 0.0010\n",
      "Epoch 10/100\n",
      "1194/1194 [==============================] - 40s 34ms/step - loss: 4.0025e-04 - val_loss: 3.9391e-04 - lr: 0.0010\n",
      "Epoch 11/100\n",
      "1194/1194 [==============================] - 41s 34ms/step - loss: 3.9433e-04 - val_loss: 3.9654e-04 - lr: 0.0010\n",
      "Epoch 12/100\n",
      "1194/1194 [==============================] - 40s 34ms/step - loss: 3.8844e-04 - val_loss: 3.9969e-04 - lr: 0.0010\n",
      "Epoch 13/100\n",
      "1194/1194 [==============================] - 41s 34ms/step - loss: 3.8379e-04 - val_loss: 3.8474e-04 - lr: 0.0010\n",
      "Epoch 14/100\n",
      "1194/1194 [==============================] - 41s 34ms/step - loss: 3.5392e-04 - val_loss: 3.6270e-04 - lr: 1.0000e-04\n",
      "Epoch 15/100\n",
      "1194/1194 [==============================] - 41s 34ms/step - loss: 3.4933e-04 - val_loss: 3.6063e-04 - lr: 1.0000e-04\n",
      "Epoch 16/100\n",
      "1194/1194 [==============================] - 41s 34ms/step - loss: 3.4738e-04 - val_loss: 3.5971e-04 - lr: 1.0000e-04\n",
      "Epoch 17/100\n",
      "1194/1194 [==============================] - 41s 34ms/step - loss: 3.4560e-04 - val_loss: 3.6198e-04 - lr: 1.0000e-04\n",
      "Epoch 18/100\n",
      "1194/1194 [==============================] - 41s 34ms/step - loss: 3.4428e-04 - val_loss: 3.5849e-04 - lr: 1.0000e-04\n",
      "Epoch 19/100\n",
      "1194/1194 [==============================] - 40s 34ms/step - loss: 3.4294e-04 - val_loss: 3.5667e-04 - lr: 1.0000e-04\n",
      "Epoch 20/100\n",
      "1194/1194 [==============================] - 40s 34ms/step - loss: 3.4178e-04 - val_loss: 3.6097e-04 - lr: 1.0000e-04\n",
      "Epoch 21/100\n",
      "1194/1194 [==============================] - 40s 34ms/step - loss: 3.4040e-04 - val_loss: 3.5696e-04 - lr: 1.0000e-04\n",
      "Epoch 22/100\n",
      "1194/1194 [==============================] - 40s 34ms/step - loss: 3.3940e-04 - val_loss: 3.5757e-04 - lr: 1.0000e-04\n",
      "Epoch 23/100\n",
      "1194/1194 [==============================] - 40s 34ms/step - loss: 3.3882e-04 - val_loss: 3.5756e-04 - lr: 1.0000e-04\n",
      "Epoch 24/100\n",
      "1194/1194 [==============================] - 41s 34ms/step - loss: 3.3767e-04 - val_loss: 3.5721e-04 - lr: 1.0000e-04\n",
      "Epoch 25/100\n",
      "1194/1194 [==============================] - 41s 34ms/step - loss: 3.3288e-04 - val_loss: 3.5470e-04 - lr: 1.0000e-05\n",
      "Epoch 26/100\n",
      "1194/1194 [==============================] - 41s 34ms/step - loss: 3.3232e-04 - val_loss: 3.5476e-04 - lr: 1.0000e-05\n",
      "Epoch 27/100\n",
      "1194/1194 [==============================] - 41s 34ms/step - loss: 3.3204e-04 - val_loss: 3.5493e-04 - lr: 1.0000e-05\n",
      "Epoch 28/100\n",
      "1194/1194 [==============================] - 40s 34ms/step - loss: 3.3182e-04 - val_loss: 3.5482e-04 - lr: 1.0000e-05\n",
      "Epoch 29/100\n",
      "1194/1194 [==============================] - 40s 34ms/step - loss: 3.3172e-04 - val_loss: 3.5487e-04 - lr: 1.0000e-05\n",
      "Epoch 30/100\n",
      "1194/1194 [==============================] - 41s 34ms/step - loss: 3.3150e-04 - val_loss: 3.5488e-04 - lr: 1.0000e-05\n",
      "Epoch 31/100\n",
      "1194/1194 [==============================] - 40s 34ms/step - loss: 3.3153e-04 - val_loss: 3.5485e-04 - lr: 1.0000e-05\n",
      "Epoch 32/100\n",
      "1194/1194 [==============================] - 41s 34ms/step - loss: 3.3133e-04 - val_loss: 3.5473e-04 - lr: 1.0000e-05\n",
      "Epoch 33/100\n",
      "1194/1194 [==============================] - 40s 34ms/step - loss: 3.3144e-04 - val_loss: 3.5460e-04 - lr: 1.0000e-05\n",
      "Epoch 34/100\n",
      "1194/1194 [==============================] - 40s 34ms/step - loss: 3.3123e-04 - val_loss: 3.5453e-04 - lr: 1.0000e-05\n",
      "Epoch 35/100\n",
      "1194/1194 [==============================] - 41s 34ms/step - loss: 3.3043e-04 - val_loss: 3.5452e-04 - lr: 1.0000e-06\n",
      "Epoch 36/100\n",
      "1194/1194 [==============================] - 41s 34ms/step - loss: 3.3052e-04 - val_loss: 3.5457e-04 - lr: 1.0000e-06\n",
      "Epoch 37/100\n",
      "1194/1194 [==============================] - 40s 34ms/step - loss: 3.3048e-04 - val_loss: 3.5456e-04 - lr: 1.0000e-06\n",
      "Epoch 38/100\n",
      "1194/1194 [==============================] - 41s 34ms/step - loss: 3.3039e-04 - val_loss: 3.5455e-04 - lr: 1.0000e-06\n",
      "Epoch 39/100\n",
      "1194/1194 [==============================] - 41s 34ms/step - loss: 3.3046e-04 - val_loss: 3.5454e-04 - lr: 1.0000e-06\n",
      "Epoch 40/100\n",
      "1194/1194 [==============================] - 40s 34ms/step - loss: 3.3037e-04 - val_loss: 3.5452e-04 - lr: 1.0000e-06\n"
     ]
    }
   ],
   "source": [
    "%%skip $skip_cell\n",
    "\n",
    "with open('./objs/database.pkl', 'rb') as arq:\n",
    "    database = pickle.load(arq)\n",
    "    train_ds = database[0]\n",
    "    train_y = database[1]\n",
    "    val_ds = database[2]\n",
    "    val_y = database[3]\n",
    "\n",
    "model2Conv = modelo(2, 32, 3)\n",
    "model2Conv.compile(optimizer='adam', loss='mse')\n",
    "\n",
    "es = tf.keras.callbacks.EarlyStopping(monitor='loss', patience=15, min_delta=0.00001)\n",
    "rp = tf.keras.callbacks.ReduceLROnPlateau(monitor='loss', patience=10)\n",
    "\n",
    "model2Conv.fit(train_ds, train_y, batch_size=1024, epochs=100, verbose=1, validation_split=0.1, \n",
    "               callbacks=[es, rp])\n",
    "\n",
    "with open('./objs/model2Conv.pkl', 'wb') as file:\n",
    "    pickle.dump(model2Conv, file)"
   ]
  },
  {
   "cell_type": "markdown",
   "metadata": {},
   "source": [
    "#### Avaliação"
   ]
  },
  {
   "cell_type": "code",
   "execution_count": 18,
   "metadata": {},
   "outputs": [
    {
     "name": "stdout",
     "output_type": "stream",
     "text": [
      "10605/10605 [==============================] - 13s 1ms/step - loss: 5.5145e-04\n"
     ]
    }
   ],
   "source": [
    "loss = model2Conv.evaluate(val_ds, val_y)"
   ]
  },
  {
   "cell_type": "markdown",
   "metadata": {},
   "source": [
    "### Modelo com 3 Conv"
   ]
  },
  {
   "cell_type": "markdown",
   "metadata": {},
   "source": [
    "#### Tentar carregar modelo já treinado"
   ]
  },
  {
   "cell_type": "code",
   "execution_count": 19,
   "metadata": {},
   "outputs": [],
   "source": [
    "try:\n",
    "    with open('./objs/model3Conv.pkl', 'rb') as arq:\n",
    "        model3Conv = pickle.load(arq)\n",
    "        skip_cell = True                 \n",
    "except FileNotFoundError:\n",
    "    skip_cell = False"
   ]
  },
  {
   "cell_type": "markdown",
   "metadata": {},
   "source": [
    "#### Regularização EarlyStopping"
   ]
  },
  {
   "cell_type": "code",
   "execution_count": 20,
   "metadata": {},
   "outputs": [
    {
     "name": "stdout",
     "output_type": "stream",
     "text": [
      "Epoch 1/100\n",
      "1194/1194 [==============================] - 59s 48ms/step - loss: 0.0013 - val_loss: 6.3038e-04 - lr: 0.0010\n",
      "Epoch 2/100\n",
      "1194/1194 [==============================] - 58s 48ms/step - loss: 5.0248e-04 - val_loss: 4.6300e-04 - lr: 0.0010\n",
      "Epoch 3/100\n",
      "1194/1194 [==============================] - 57s 48ms/step - loss: 4.5537e-04 - val_loss: 4.8796e-04 - lr: 0.0010\n",
      "Epoch 4/100\n",
      "1194/1194 [==============================] - 56s 47ms/step - loss: 4.3616e-04 - val_loss: 5.1722e-04 - lr: 0.0010\n",
      "Epoch 5/100\n",
      "1194/1194 [==============================] - 58s 48ms/step - loss: 4.2881e-04 - val_loss: 4.4222e-04 - lr: 0.0010\n",
      "Epoch 6/100\n",
      "1194/1194 [==============================] - 58s 49ms/step - loss: 4.2081e-04 - val_loss: 4.1268e-04 - lr: 0.0010\n",
      "Epoch 7/100\n",
      "1194/1194 [==============================] - 57s 48ms/step - loss: 4.1603e-04 - val_loss: 4.1856e-04 - lr: 0.0010\n",
      "Epoch 8/100\n",
      "1194/1194 [==============================] - 58s 48ms/step - loss: 4.0922e-04 - val_loss: 4.1234e-04 - lr: 0.0010\n",
      "Epoch 9/100\n",
      "1194/1194 [==============================] - 58s 48ms/step - loss: 4.0608e-04 - val_loss: 3.9804e-04 - lr: 0.0010\n",
      "Epoch 10/100\n",
      "1194/1194 [==============================] - 58s 49ms/step - loss: 4.0129e-04 - val_loss: 4.3122e-04 - lr: 0.0010\n",
      "Epoch 11/100\n",
      "1194/1194 [==============================] - 58s 48ms/step - loss: 3.9714e-04 - val_loss: 5.0775e-04 - lr: 0.0010\n",
      "Epoch 12/100\n",
      "1194/1194 [==============================] - 58s 49ms/step - loss: 3.9182e-04 - val_loss: 4.1468e-04 - lr: 0.0010\n",
      "Epoch 13/100\n",
      "1194/1194 [==============================] - 57s 48ms/step - loss: 3.8835e-04 - val_loss: 4.1554e-04 - lr: 0.0010\n",
      "Epoch 14/100\n",
      "1194/1194 [==============================] - 57s 48ms/step - loss: 3.8286e-04 - val_loss: 4.1841e-04 - lr: 0.0010\n",
      "Epoch 15/100\n",
      "1194/1194 [==============================] - 57s 48ms/step - loss: 3.7957e-04 - val_loss: 3.9798e-04 - lr: 0.0010\n",
      "Epoch 16/100\n",
      "1194/1194 [==============================] - 57s 48ms/step - loss: 3.7756e-04 - val_loss: 3.9408e-04 - lr: 0.0010\n",
      "Epoch 17/100\n",
      "1194/1194 [==============================] - 58s 48ms/step - loss: 3.7355e-04 - val_loss: 3.9734e-04 - lr: 0.0010\n",
      "Epoch 18/100\n",
      "1194/1194 [==============================] - 58s 48ms/step - loss: 3.6809e-04 - val_loss: 4.0435e-04 - lr: 0.0010\n",
      "Epoch 19/100\n",
      "1194/1194 [==============================] - 57s 48ms/step - loss: 3.6595e-04 - val_loss: 4.4149e-04 - lr: 0.0010\n",
      "Epoch 20/100\n",
      "1194/1194 [==============================] - 58s 49ms/step - loss: 3.6245e-04 - val_loss: 3.9259e-04 - lr: 0.0010\n",
      "Epoch 21/100\n",
      "1194/1194 [==============================] - 58s 48ms/step - loss: 3.3463e-04 - val_loss: 3.5579e-04 - lr: 1.0000e-04\n",
      "Epoch 22/100\n",
      "1194/1194 [==============================] - 58s 49ms/step - loss: 3.3028e-04 - val_loss: 3.5412e-04 - lr: 1.0000e-04\n",
      "Epoch 23/100\n",
      "1194/1194 [==============================] - 57s 48ms/step - loss: 3.2800e-04 - val_loss: 3.5417e-04 - lr: 1.0000e-04\n",
      "Epoch 24/100\n",
      "1194/1194 [==============================] - 58s 48ms/step - loss: 3.2682e-04 - val_loss: 3.5451e-04 - lr: 1.0000e-04\n",
      "Epoch 25/100\n",
      "1194/1194 [==============================] - 58s 49ms/step - loss: 3.2535e-04 - val_loss: 3.5322e-04 - lr: 1.0000e-04\n",
      "Epoch 26/100\n",
      "1194/1194 [==============================] - 58s 49ms/step - loss: 3.2422e-04 - val_loss: 3.5380e-04 - lr: 1.0000e-04\n",
      "Epoch 27/100\n",
      "1194/1194 [==============================] - 58s 48ms/step - loss: 3.2336e-04 - val_loss: 3.5434e-04 - lr: 1.0000e-04\n",
      "Epoch 28/100\n",
      "1194/1194 [==============================] - 58s 49ms/step - loss: 3.2216e-04 - val_loss: 3.5511e-04 - lr: 1.0000e-04\n",
      "Epoch 29/100\n",
      "1194/1194 [==============================] - 58s 49ms/step - loss: 3.2100e-04 - val_loss: 3.5487e-04 - lr: 1.0000e-04\n",
      "Epoch 30/100\n",
      "1194/1194 [==============================] - 58s 49ms/step - loss: 3.2019e-04 - val_loss: 3.5814e-04 - lr: 1.0000e-04\n",
      "Epoch 31/100\n",
      "1194/1194 [==============================] - 58s 49ms/step - loss: 3.1564e-04 - val_loss: 3.5235e-04 - lr: 1.0000e-05\n",
      "Epoch 32/100\n",
      "1194/1194 [==============================] - 58s 49ms/step - loss: 3.1536e-04 - val_loss: 3.5226e-04 - lr: 1.0000e-05\n",
      "Epoch 33/100\n",
      "1194/1194 [==============================] - 58s 49ms/step - loss: 3.1507e-04 - val_loss: 3.5213e-04 - lr: 1.0000e-05\n",
      "Epoch 34/100\n",
      "1194/1194 [==============================] - 58s 49ms/step - loss: 3.1491e-04 - val_loss: 3.5222e-04 - lr: 1.0000e-05\n",
      "Epoch 35/100\n",
      "1194/1194 [==============================] - 58s 49ms/step - loss: 3.1482e-04 - val_loss: 3.5225e-04 - lr: 1.0000e-05\n",
      "Epoch 36/100\n",
      "1194/1194 [==============================] - 58s 48ms/step - loss: 3.1477e-04 - val_loss: 3.5217e-04 - lr: 1.0000e-05\n",
      "Epoch 37/100\n",
      "1194/1194 [==============================] - 58s 48ms/step - loss: 3.1452e-04 - val_loss: 3.5228e-04 - lr: 1.0000e-05\n",
      "Epoch 38/100\n",
      "1194/1194 [==============================] - 57s 48ms/step - loss: 3.1449e-04 - val_loss: 3.5204e-04 - lr: 1.0000e-05\n",
      "Epoch 39/100\n",
      "1194/1194 [==============================] - 58s 48ms/step - loss: 3.1429e-04 - val_loss: 3.5213e-04 - lr: 1.0000e-05\n",
      "Epoch 40/100\n",
      "1194/1194 [==============================] - 58s 48ms/step - loss: 3.1423e-04 - val_loss: 3.5223e-04 - lr: 1.0000e-05\n",
      "Epoch 41/100\n",
      "1194/1194 [==============================] - 58s 48ms/step - loss: 3.1376e-04 - val_loss: 3.5203e-04 - lr: 1.0000e-06\n",
      "Epoch 42/100\n",
      "1194/1194 [==============================] - 58s 48ms/step - loss: 3.1356e-04 - val_loss: 3.5213e-04 - lr: 1.0000e-06\n",
      "Epoch 43/100\n",
      "1194/1194 [==============================] - 57s 48ms/step - loss: 3.1365e-04 - val_loss: 3.5201e-04 - lr: 1.0000e-06\n",
      "Epoch 44/100\n",
      "1194/1194 [==============================] - 57s 48ms/step - loss: 3.1367e-04 - val_loss: 3.5209e-04 - lr: 1.0000e-06\n",
      "Epoch 45/100\n",
      "1194/1194 [==============================] - 57s 48ms/step - loss: 3.1356e-04 - val_loss: 3.5210e-04 - lr: 1.0000e-06\n",
      "Epoch 46/100\n",
      "1194/1194 [==============================] - 57s 48ms/step - loss: 3.1373e-04 - val_loss: 3.5208e-04 - lr: 1.0000e-06\n",
      "Epoch 47/100\n",
      "1194/1194 [==============================] - 57s 48ms/step - loss: 3.1350e-04 - val_loss: 3.5216e-04 - lr: 1.0000e-06\n",
      "Epoch 48/100\n",
      "1194/1194 [==============================] - 58s 48ms/step - loss: 3.1348e-04 - val_loss: 3.5213e-04 - lr: 1.0000e-06\n",
      "Epoch 49/100\n",
      "1194/1194 [==============================] - 58s 48ms/step - loss: 3.1343e-04 - val_loss: 3.5212e-04 - lr: 1.0000e-06\n",
      "Epoch 50/100\n",
      "1194/1194 [==============================] - 57s 48ms/step - loss: 3.1361e-04 - val_loss: 3.5215e-04 - lr: 1.0000e-06\n",
      "Epoch 51/100\n",
      "1194/1194 [==============================] - 58s 49ms/step - loss: 3.1349e-04 - val_loss: 3.5214e-04 - lr: 1.0000e-07\n",
      "Epoch 52/100\n",
      "1194/1194 [==============================] - 58s 49ms/step - loss: 3.1372e-04 - val_loss: 3.5217e-04 - lr: 1.0000e-07\n",
      "Epoch 53/100\n",
      "1194/1194 [==============================] - 58s 49ms/step - loss: 3.1345e-04 - val_loss: 3.5215e-04 - lr: 1.0000e-07\n",
      "Epoch 54/100\n",
      "1194/1194 [==============================] - 58s 49ms/step - loss: 3.1358e-04 - val_loss: 3.5217e-04 - lr: 1.0000e-07\n",
      "Epoch 55/100\n",
      "1194/1194 [==============================] - 58s 49ms/step - loss: 3.1362e-04 - val_loss: 3.5217e-04 - lr: 1.0000e-07\n",
      "Epoch 56/100\n",
      "1194/1194 [==============================] - 58s 48ms/step - loss: 3.1362e-04 - val_loss: 3.5221e-04 - lr: 1.0000e-07\n"
     ]
    }
   ],
   "source": [
    "%%skip $skip_cell\n",
    "\n",
    "with open('./objs/database.pkl', 'rb') as arq:\n",
    "    database = pickle.load(arq)\n",
    "    train_ds = database[0]\n",
    "    train_y = database[1]\n",
    "    val_ds = database[2]\n",
    "    val_y = database[3]\n",
    "\n",
    "model3Conv = modelo(3, 32, 3)\n",
    "model3Conv.compile(optimizer='adam', loss='mse')\n",
    "\n",
    "es = tf.keras.callbacks.EarlyStopping(monitor='loss', patience=15, min_delta=0.00001)\n",
    "rp = tf.keras.callbacks.ReduceLROnPlateau(monitor='loss', patience=10)\n",
    "\n",
    "model3Conv.fit(train_ds, train_y, batch_size=1024, epochs=100, verbose=1, validation_split=0.1, \n",
    "               callbacks=[es, rp])\n",
    "\n",
    "with open('./objs/model3Conv.pkl', 'wb') as file:\n",
    "    pickle.dump(model3Conv, file)"
   ]
  },
  {
   "cell_type": "markdown",
   "metadata": {},
   "source": [
    "#### Avaliação"
   ]
  },
  {
   "cell_type": "code",
   "execution_count": 21,
   "metadata": {},
   "outputs": [
    {
     "name": "stdout",
     "output_type": "stream",
     "text": [
      "10605/10605 [==============================] - 15s 1ms/step - loss: 5.4565e-04\n"
     ]
    }
   ],
   "source": [
    "loss = model3Conv.evaluate(val_ds, val_y)"
   ]
  },
  {
   "cell_type": "markdown",
   "metadata": {},
   "source": [
    "### Modelo com 2 Conv, mas database invertendo sinal (analisar apenas \"brancas\")"
   ]
  },
  {
   "cell_type": "markdown",
   "metadata": {},
   "source": [
    "#### Tentar carregar modelo já treinado"
   ]
  },
  {
   "cell_type": "code",
   "execution_count": 22,
   "metadata": {},
   "outputs": [],
   "source": [
    "try:\n",
    "    with open('./objs/model2Conv_changeSignal.pkl', 'rb') as arq:\n",
    "        model2Conv_changeSignal = pickle.load(arq)\n",
    "        skip_cell = True                 \n",
    "except FileNotFoundError:\n",
    "    skip_cell = False"
   ]
  },
  {
   "cell_type": "markdown",
   "metadata": {},
   "source": [
    "#### Regularização EarlyStopping"
   ]
  },
  {
   "cell_type": "code",
   "execution_count": 23,
   "metadata": {},
   "outputs": [],
   "source": [
    "%%skip $skip_cell\n",
    "\n",
    "with open('./objs/databaseForWhite.pkl', 'rb') as arq:\n",
    "    databaseForWhite = pickle.load(arq)\n",
    "    train_ds = databaseForWhite[0]\n",
    "    train_y = databaseForWhite[1]\n",
    "    val_ds = databaseForWhite[2]\n",
    "    val_y = databaseForWhite[3]\n",
    "\n",
    "\n",
    "model2Conv_changeSignal = modelo(2, 32, 3)\n",
    "model2Conv_changeSignal.compile(optimizer='adam', loss='mse')\n",
    "\n",
    "es = tf.keras.callbacks.EarlyStopping(monitor='loss', patience=15, min_delta=0.00001)\n",
    "rp = tf.keras.callbacks.ReduceLROnPlateau(monitor='loss', patience=10)\n",
    "\n",
    "model2Conv_changeSignal.fit(train_ds, train_y, batch_size=1024, epochs=100, verbose=1, validation_split=0.1, \n",
    "               callbacks=[es, rp])\n",
    "\n",
    "with open('./objs/model2Conv_changeSignal.pkl', 'wb') as file:\n",
    "    pickle.dump(model2Conv_changeSignal, file)"
   ]
  },
  {
   "cell_type": "markdown",
   "metadata": {},
   "source": [
    "#### Avaliação"
   ]
  },
  {
   "cell_type": "code",
   "execution_count": 24,
   "metadata": {},
   "outputs": [
    {
     "name": "stdout",
     "output_type": "stream",
     "text": [
      "10605/10605 [==============================] - 13s 1ms/step - loss: 5.8710e-04\n"
     ]
    }
   ],
   "source": [
    "loss = model2Conv_changeSignal.evaluate(val_ds, val_y)"
   ]
  },
  {
   "cell_type": "markdown",
   "metadata": {},
   "source": [
    "### Modelo com 2 Conv, mas database invertendo sinal (analisar apenas \"pretas\")"
   ]
  },
  {
   "cell_type": "markdown",
   "metadata": {},
   "source": [
    "#### Tentar carregar modelo já treinado"
   ]
  },
  {
   "cell_type": "code",
   "execution_count": 25,
   "metadata": {},
   "outputs": [],
   "source": [
    "try:\n",
    "    with open('./objs/model2Conv_changeSignalBlack.pkl', 'rb') as arq:\n",
    "        model2Conv_changeSignalBlack = pickle.load(arq)\n",
    "        skip_cell = True                 \n",
    "except FileNotFoundError:\n",
    "    skip_cell = False"
   ]
  },
  {
   "cell_type": "markdown",
   "metadata": {},
   "source": [
    "#### Regularização EarlyStopping"
   ]
  },
  {
   "cell_type": "code",
   "execution_count": 26,
   "metadata": {},
   "outputs": [],
   "source": [
    "%%skip $skip_cell\n",
    "\n",
    "with open('./objs/databaseForBlack.pkl', 'rb') as arq:\n",
    "    databaseForBlack = pickle.load(arq)\n",
    "    train_ds = databaseForBlack[0]\n",
    "    train_y = databaseForBlack[1]\n",
    "    val_ds = databaseForBlack[2]\n",
    "    val_y = databaseForBlack[3]\n",
    "\n",
    "\n",
    "model2Conv_changeSignalBlack = modelo(2, 32, 3)\n",
    "model2Conv_changeSignalBlack.compile(optimizer='adam', loss='mse')\n",
    "\n",
    "es = tf.keras.callbacks.EarlyStopping(monitor='loss', patience=15, min_delta=0.00001)\n",
    "rp = tf.keras.callbacks.ReduceLROnPlateau(monitor='loss', patience=10)\n",
    "\n",
    "model2Conv_changeSignalBlack.fit(train_ds, train_y, batch_size=1024, epochs=100, verbose=1, validation_split=0.1, \n",
    "               callbacks=[es, rp])\n",
    "\n",
    "with open('./objs/model2Conv_changeSignalBlack.pkl', 'wb') as file:\n",
    "    pickle.dump(model2Conv_changeSignalBlack, file)"
   ]
  },
  {
   "cell_type": "markdown",
   "metadata": {},
   "source": [
    "#### Avaliação"
   ]
  },
  {
   "cell_type": "code",
   "execution_count": 27,
   "metadata": {},
   "outputs": [
    {
     "name": "stdout",
     "output_type": "stream",
     "text": [
      "10605/10605 [==============================] - 13s 1ms/step - loss: 6.0139e-04\n"
     ]
    }
   ],
   "source": [
    "loss = model2Conv_changeSignalBlack.evaluate(val_ds, val_y)"
   ]
  },
  {
   "cell_type": "markdown",
   "metadata": {},
   "source": [
    "### Modelo com 3 Conv, mas database invertendo sinal (analisar apenas \"brancas\")"
   ]
  },
  {
   "cell_type": "markdown",
   "metadata": {},
   "source": [
    "#### Tentar carregar modelo já treinado"
   ]
  },
  {
   "cell_type": "code",
   "execution_count": 28,
   "metadata": {},
   "outputs": [],
   "source": [
    "try:\n",
    "    with open('./objs/model3Conv_changeSignal.pkl', 'rb') as arq:\n",
    "        model3Conv_changeSignal = pickle.load(arq)\n",
    "        skip_cell = True                 \n",
    "except FileNotFoundError:\n",
    "    skip_cell = False"
   ]
  },
  {
   "cell_type": "markdown",
   "metadata": {},
   "source": [
    "#### Regularização EarlyStopping"
   ]
  },
  {
   "cell_type": "code",
   "execution_count": 29,
   "metadata": {},
   "outputs": [],
   "source": [
    "%%skip $skip_cell\n",
    "\n",
    "with open('./objs/databaseForWhite.pkl', 'rb') as arq:\n",
    "        databaseForWhite = pickle.load(arq)\n",
    "        train_ds = databaseForWhite[0]\n",
    "        train_y = databaseForWhite[1]\n",
    "        val_ds = databaseForWhite[2]\n",
    "        val_y = databaseForWhite[3]\n",
    "\n",
    "\n",
    "model3Conv_changeSignal = modelo(3, 32, 3)\n",
    "model3Conv_changeSignal.compile(optimizer='adam', loss='mse')\n",
    "\n",
    "es = tf.keras.callbacks.EarlyStopping(monitor='loss', patience=15, min_delta=0.00001)\n",
    "rp = tf.keras.callbacks.ReduceLROnPlateau(monitor='loss', patience=10)\n",
    "\n",
    "model3Conv_changeSignal.fit(train_ds, train_y, batch_size=1024, epochs=100, verbose=1, validation_split=0.1, \n",
    "               callbacks=[es, rp])\n",
    "\n",
    "with open('./objs/model3Conv_changeSignal.pkl', 'wb') as file:\n",
    "    pickle.dump(model3Conv_changeSignal, file)"
   ]
  },
  {
   "cell_type": "markdown",
   "metadata": {},
   "source": [
    "#### Avaliação"
   ]
  },
  {
   "cell_type": "code",
   "execution_count": 30,
   "metadata": {},
   "outputs": [
    {
     "name": "stdout",
     "output_type": "stream",
     "text": [
      "10605/10605 [==============================] - 16s 1ms/step - loss: 6.2022e-04\n"
     ]
    }
   ],
   "source": [
    "loss = model3Conv_changeSignal.evaluate(val_ds, val_y)"
   ]
  },
  {
   "cell_type": "markdown",
   "metadata": {},
   "source": [
    "### Modelo com 3 Conv, mas database invertendo sinal (analisar apenas \"pretas\")"
   ]
  },
  {
   "cell_type": "markdown",
   "metadata": {},
   "source": [
    "#### Tentar carregar modelo já treinado"
   ]
  },
  {
   "cell_type": "code",
   "execution_count": 31,
   "metadata": {},
   "outputs": [],
   "source": [
    "try:\n",
    "    with open('./objs/model3Conv_changeSignalBlack.pkl', 'rb') as arq:\n",
    "        model3Conv_changeSignalBlack = pickle.load(arq)\n",
    "        skip_cell = True                 \n",
    "except FileNotFoundError:\n",
    "    skip_cell = False"
   ]
  },
  {
   "cell_type": "markdown",
   "metadata": {},
   "source": [
    "#### Regularização EarlyStopping"
   ]
  },
  {
   "cell_type": "code",
   "execution_count": 32,
   "metadata": {},
   "outputs": [],
   "source": [
    "%%skip $skip_cell\n",
    "\n",
    "with open('./objs/databaseForBlack.pkl', 'rb') as arq:\n",
    "        databaseForBlack = pickle.load(arq)\n",
    "        train_ds = databaseForBlack[0]\n",
    "        train_y = databaseForBlack[1]\n",
    "        val_ds = databaseForBlack[2]\n",
    "        val_y = databaseForBlack[3]\n",
    "\n",
    "\n",
    "model3Conv_changeSignalBlack = modelo(3, 32, 3)\n",
    "model3Conv_changeSignalBlack.compile(optimizer='adam', loss='mse')\n",
    "\n",
    "es = tf.keras.callbacks.EarlyStopping(monitor='loss', patience=15, min_delta=0.00001)\n",
    "rp = tf.keras.callbacks.ReduceLROnPlateau(monitor='loss', patience=10)\n",
    "\n",
    "model3Conv_changeSignalBlack.fit(train_ds, train_y, batch_size=1024, epochs=100, verbose=1, validation_split=0.1, \n",
    "               callbacks=[es, rp])\n",
    "\n",
    "with open('./objs/model3Conv_changeSignalBlack.pkl', 'wb') as file:\n",
    "    pickle.dump(model3Conv_changeSignalBlack, file)"
   ]
  },
  {
   "cell_type": "markdown",
   "metadata": {},
   "source": [
    "#### Avaliação"
   ]
  },
  {
   "cell_type": "code",
   "execution_count": 33,
   "metadata": {},
   "outputs": [
    {
     "name": "stdout",
     "output_type": "stream",
     "text": [
      "10605/10605 [==============================] - 15s 1ms/step - loss: 6.0112e-04\n"
     ]
    }
   ],
   "source": [
    "loss = model3Conv_changeSignalBlack.evaluate(val_ds, val_y)"
   ]
  },
  {
   "cell_type": "markdown",
   "metadata": {},
   "source": [
    "## Comparação"
   ]
  },
  {
   "cell_type": "markdown",
   "metadata": {},
   "source": [
    "### Funções"
   ]
  },
  {
   "cell_type": "markdown",
   "metadata": {},
   "source": [
    "#### Pegar melhores 5 movimentos do StockFish"
   ]
  },
  {
   "cell_type": "code",
   "execution_count": 34,
   "metadata": {},
   "outputs": [],
   "source": [
    "def showStockFishBestMoves(board:Board) -> None:\n",
    "    analysed_variations = engine.analyse(board, chess.engine.Limit(time=0.01), multipv=5)\n",
    "    top_five_moves = [variation[\"pv\"][0].uci() for variation in analysed_variations]\n",
    "    print(top_five_moves)"
   ]
  },
  {
   "cell_type": "markdown",
   "metadata": {},
   "source": [
    "#### Pegar o movimento que gera a melhor posição"
   ]
  },
  {
   "cell_type": "code",
   "execution_count": 35,
   "metadata": {},
   "outputs": [
    {
     "data": {
      "text/plain": [
       "array([[[ -5,  -2,  -3,  -9, -38,  -3,  -2,  -5],\n",
       "        [ -1,  -1,  -1,  -1,  -1,  -1,  -1,  -1],\n",
       "        [  0,   0,   0,   0,   0,   0,   0,   0],\n",
       "        [  0,   0,   0,   0,   0,   0,   0,   0],\n",
       "        [  0,   0,   0,   0,   0,   0,   0,   0],\n",
       "        [  0,   0,   0,   0,   0,   0,   0,   2],\n",
       "        [  1,   1,   1,   1,   1,   1,   1,   1],\n",
       "        [  5,   2,   3,   9,  38,   3,   0,   5]]])"
      ]
     },
     "execution_count": 35,
     "metadata": {},
     "output_type": "execute_result"
    }
   ],
   "source": [
    "def getWhiteBestMove(position:Board, model:tf.keras.models.Model) -> chess.Move:\n",
    "    new_positions = []\n",
    "    possible_moves = [move.uci() for move in position.generate_legal_moves()]\n",
    "    for move in possible_moves:\n",
    "        position.push_uci(move)\n",
    "        new_position = position.getMatrix() # inverter cores\n",
    "        new_position = np.reshape(new_position, (1, 8, 8))\n",
    "        new_positions.append(new_position)\n",
    "        position.pop()\n",
    "    new_positions = np.stack(new_positions)\n",
    "    return possible_moves[np.array(model(new_positions)).argmax()]\n",
    "\n",
    "def getBlackBestMove(position:Board, model:tf.keras.models.Model) -> chess.Move:\n",
    "    new_positions = []\n",
    "    possible_moves = [move.uci() for move in position.generate_legal_moves()]\n",
    "    for move in possible_moves:\n",
    "        position.push_uci(move)\n",
    "        new_position = position.getMatrix()\n",
    "        new_position = np.reshape(new_position, (1, 8, 8))\n",
    "        new_positions.append(new_position)\n",
    "        position.pop()\n",
    "    new_positions = np.stack(new_positions)\n",
    "    return possible_moves[np.array(model(new_positions)).argmin()]\n",
    "\n",
    "def getNewMoves(position:Board) -> np.stack:\n",
    "    new_positions = []\n",
    "    possible_moves = [move.uci() for move in position.generate_legal_moves()]\n",
    "    for move in possible_moves:\n",
    "        position.push_uci(move)\n",
    "        new_position = position.getMatrix() # inverter cores\n",
    "        new_position = np.reshape(new_position, (1, 8, 8))\n",
    "        new_positions.append(new_position)\n",
    "        position.pop()\n",
    "    return np.stack(new_positions)\n",
    "\n",
    "\n",
    "def getTwoMovesForWhite(position:Board, model:tf.keras.models.Model):\n",
    "    best_move = getWhiteBestMove(position, model)\n",
    "    position.push_uci(best_move)\n",
    "    position.show()\n",
    "    position = Board(position.getMatrix(), turn='b')\n",
    "    \n",
    "    best_move = getBlackBestMove(position, model)\n",
    "    position.push_uci(best_move)\n",
    "    position.show()\n",
    "    position = Board(position.getMatrix(), turn='w')\n",
    "\n",
    "getNewMoves(Board())[0]\n"
   ]
  },
  {
   "cell_type": "markdown",
   "metadata": {},
   "source": [
    "### Análise"
   ]
  },
  {
   "cell_type": "markdown",
   "metadata": {},
   "source": [
    "#### Jogar pelas brancas"
   ]
  },
  {
   "cell_type": "code",
   "execution_count": 36,
   "metadata": {},
   "outputs": [
    {
     "name": "stdout",
     "output_type": "stream",
     "text": [
      "['e2e4', 'd2d4', 'g1f3', 'b1c3', 'a2a3']\n",
      "Model2Conv:  e2e4\n",
      "Model3Conv:  b1c3\n",
      "model2Conv_changeSignal:  b1c3\n",
      "model2Conv_changeSignalBlack:  b1c3\n",
      "model3Conv_changeSignal:  e2e4\n",
      "model3Conv_changeSignalBlack:  b1c3\n"
     ]
    }
   ],
   "source": [
    "position = Board()\n",
    "showStockFishBestMoves(position)\n",
    "\n",
    "best_move = print(\"Model2Conv: \", getWhiteBestMove(position, model2Conv))\n",
    "best_move = print(\"Model3Conv: \", getWhiteBestMove(position, model3Conv))\n",
    "best_move = print(\"model2Conv_changeSignal: \", getWhiteBestMove(position, model2Conv_changeSignal))\n",
    "best_move = print(\"model2Conv_changeSignalBlack: \", getWhiteBestMove(position, model2Conv_changeSignalBlack))\n",
    "best_move = print(\"model3Conv_changeSignal: \", getWhiteBestMove(position, model3Conv_changeSignal))\n",
    "best_move = print(\"model3Conv_changeSignalBlack: \", getWhiteBestMove(position, model3Conv_changeSignalBlack))"
   ]
  },
  {
   "cell_type": "markdown",
   "metadata": {},
   "source": [
    "#### Jogar pela pretas"
   ]
  },
  {
   "cell_type": "code",
   "execution_count": 37,
   "metadata": {},
   "outputs": [
    {
     "name": "stdout",
     "output_type": "stream",
     "text": [
      "['e7e5', 'd7d6', 'e7e6', 'c7c5', 'c7c6']\n",
      "Model2Conv:  e7e5\n",
      "Model3Conv:  c7c6\n",
      "model2Conv_changeSignal:  b8c6\n",
      "model2Conv_changeSignalBlack:  e7e5\n"
     ]
    },
    {
     "name": "stdout",
     "output_type": "stream",
     "text": [
      "model3Conv_changeSignal:  b8c6\n",
      "model3Conv_changeSignalBlack:  b8c6\n"
     ]
    }
   ],
   "source": [
    "position = Board(fenpos=\"rnbqkbnr/pppppppp/8/8/4P3/8/PPPP1PPP/RNBQKBNR b\") # e2e4\n",
    "\n",
    "showStockFishBestMoves(position)\n",
    "\n",
    "\n",
    "best_move = print(\"Model2Conv: \", getBlackBestMove(position, model2Conv))\n",
    "best_move = print(\"Model3Conv: \", getBlackBestMove(position, model3Conv))\n",
    "best_move = print(\"model2Conv_changeSignal: \", getBlackBestMove(position, model2Conv_changeSignal))\n",
    "best_move = print(\"model2Conv_changeSignalBlack: \", getBlackBestMove(position, model2Conv_changeSignalBlack))\n",
    "best_move = print(\"model3Conv_changeSignal: \", getBlackBestMove(position, model3Conv_changeSignal))\n",
    "best_move = print(\"model3Conv_changeSignalBlack: \", getBlackBestMove(position, model3Conv_changeSignalBlack))"
   ]
  },
  {
   "cell_type": "markdown",
   "metadata": {},
   "source": [
    "## Aplicação"
   ]
  },
  {
   "cell_type": "markdown",
   "metadata": {},
   "source": [
    "#### Jogando contra o usuário"
   ]
  },
  {
   "cell_type": "code",
   "execution_count": 38,
   "metadata": {},
   "outputs": [],
   "source": [
    "def letsPlayAGameWhite(model:tf.keras.models.Model) -> None:\n",
    "    position = Board()\n",
    "    while(not position.is_checkmate()):\n",
    "        best_move = getWhiteBestMove(position, model)\n",
    "        position.push_uci(best_move)\n",
    "        position.show()\n",
    "        position = Board(position.getMatrix(), turn='b')\n",
    "        \n",
    "        clear_output(wait=True)\n",
    "        \n",
    "        user_move = \"\"\n",
    "        user_move = input(\"Faça seu movimento(ex: e2e4): \")\n",
    "        while(True):\n",
    "            try:\n",
    "                position.push_uci(user_move)\n",
    "                break\n",
    "            except:\n",
    "                user_move = input(\"Movimento errado! Faça outro(ESC/ENTER para parar de jogar): \")\n",
    "                if user_move == \"\": return\n",
    "        position.show()\n",
    "        position = Board(position.getMatrix(), turn='w')\n",
    "\n",
    "def letsPlayAGameBlack(model:tf.keras.models.Model) -> None:\n",
    "    position = Board()\n",
    "    while(not position.is_checkmate()):\n",
    "        user_move = \"\"\n",
    "        user_move = input(\"Faça seu movimento(ex: e2e4): \")\n",
    "        while(True):\n",
    "            try:\n",
    "                position.push_uci(user_move)\n",
    "                break\n",
    "            except:\n",
    "                user_move = input(\"Movimento errado! Faça outro(ESC/ENTER para parar de jogar): \")\n",
    "                if user_move == \"\": return\n",
    "        position.show()\n",
    "        position = Board(position.getMatrix(), turn='b')\n",
    "\n",
    "        clear_output(wait=True)\n",
    "\n",
    "        best_move = getBlackBestMove(position, model)\n",
    "        position.push_uci(best_move)\n",
    "        position.show()\n",
    "        position = Board(position.getMatrix(), turn='w')"
   ]
  },
  {
   "cell_type": "markdown",
   "metadata": {},
   "source": [
    "## Árvore de Decisão"
   ]
  },
  {
   "cell_type": "code",
   "execution_count": 39,
   "metadata": {},
   "outputs": [
    {
     "name": "stdout",
     "output_type": "stream",
     "text": [
      "Node with value 4 not found in the tree.\n"
     ]
    }
   ],
   "source": [
    "class TreeNode:\n",
    "    def __init__(self, key):\n",
    "        self.key = key\n",
    "        self.children = []\n",
    "\n",
    "class GeneralTree:\n",
    "    def __init__(self):\n",
    "        self.root = None\n",
    "\n",
    "    def insert(self, parent_key, key):\n",
    "        new_node = TreeNode(key)\n",
    "        if not self.root:\n",
    "            self.root = new_node\n",
    "        else:\n",
    "            parent_node = self._find_node(self.root, parent_key)\n",
    "            if parent_node:\n",
    "                parent_node.children.append(new_node)\n",
    "            else:\n",
    "                print(f\"Parent with key {parent_key} not found. Node {key} not inserted.\")\n",
    "\n",
    "    def _find_node(self, current_node, key):\n",
    "        if current_node.key == key:\n",
    "            return current_node\n",
    "        for child in current_node.children:\n",
    "            result = self._find_node(child, key)\n",
    "            if result:\n",
    "                return result\n",
    "        return None\n",
    "\n",
    "    def bottom_up_search(self, key):\n",
    "        return self._bottom_up_search(self.root, key)\n",
    "\n",
    "    def _bottom_up_search(self, current_node, key):\n",
    "        if current_node is None:\n",
    "            return None\n",
    "        \n",
    "        # Check if the current node has a child with the given key\n",
    "        for child in current_node.children:\n",
    "            if child.key == key:\n",
    "                return child\n",
    "\n",
    "        # Perform bottom-up search on the children\n",
    "        for child in current_node.children:\n",
    "            result = self._bottom_up_search(child, key)\n",
    "            if result:\n",
    "                return result\n",
    "\n",
    "        return None\n",
    "\n",
    "# Example Usage:\n",
    "tree = GeneralTree()\n",
    "tree.insert(None, 1)  # Inserting root node\n",
    "tree.insert(1, 2)     # Inserting a child under node 1\n",
    "tree.insert(1, 3)     # Inserting another child under node 1\n",
    "tree.insert(2, 4)     # Inserting a child under node 2\n",
    "\n",
    "result = tree.bottom_up_search(5)\n",
    "if result:\n",
    "    print(f\"Node with value 4 found in the tree.\")\n",
    "else:\n",
    "    print(f\"Node with value 4 not found in the tree.\")\n",
    "\n",
    "    \n"
   ]
  },
  {
   "cell_type": "code",
   "execution_count": 40,
   "metadata": {},
   "outputs": [],
   "source": [
    "def getNewMoves(position:Board) -> np.stack:\n",
    "    new_positions = []\n",
    "    possible_moves = [move.uci() for move in position.generate_legal_moves()]\n",
    "    for move in possible_moves:\n",
    "        position.push_uci(move)\n",
    "        new_position = position.getMatrix() # inverter cores\n",
    "        new_position = np.reshape(new_position, (1, 8, 8))\n",
    "        new_positions.append(new_position)\n",
    "        position.pop()\n",
    "    return np.stack(new_positions)\n",
    "\n",
    "class MovesAhead():\n",
    "    def __init__(self, position:Board, depth:int) -> None:\n",
    "        self.last_move = np.reshape(position.getMatrix(), (1, 8, 8))\n",
    "        self.turn = position.fen().split()[1]\n",
    "        self.possible_moves = []\n",
    "        if depth == 0 : return\n",
    "        for move in getNewMoves(position):\n",
    "            next_turn = 'b' if self.turn == 'w' else 'w'\n",
    "            self.possible_moves.append(MovesAhead(Board(move[0], turn=next_turn), depth-1))\n",
    "    def show(self):\n",
    "        self.show = display(Board(self.last_move[0]))\n",
    "    \n",
    "\n",
    "def getBestMoveAheadEdition(position:Board, model:tf.keras.models.Model):\n",
    "    movesTree = MovesAhead(position, 2)\n",
    "    h = []\n",
    "    g = []\n",
    "    for oneAhead in movesTree.possible_moves:\n",
    "        for twoAhead in oneAhead.possible_moves:\n",
    "            h.append(twoAhead.last_move)\n",
    "        g.append(oneAhead.possible_moves[np.array(model(np.array(h))).argmax()]) # pior pras pretas\n",
    "        h = []\n",
    "    moves = np.array([x.last_move for x in g])\n",
    "    best_position = movesTree.possible_moves[np.array(model(moves)).argmax()].last_move[0]\n",
    "    moveMatrix = best_position-position.getMatrix()#b1c3\n",
    "    past = 63 - moveMatrix.argmin()\n",
    "    future = 63 - moveMatrix.argmax()\n",
    "    posicoes = {i: chr(ord('a') + i - 1) for i in range(1, 9)}\n",
    "    best_move = posicoes[8-past%8]+str(past//8 +1)+posicoes[8-future%8]+str(future//8 +1)\n",
    "    return best_move"
   ]
  },
  {
   "cell_type": "code",
   "execution_count": 41,
   "metadata": {},
   "outputs": [],
   "source": [
    "def letsPlayAGame20(model:tf.keras.models.Model) -> None:\n",
    "    position = Board()\n",
    "    while(not position.is_checkmate()):\n",
    "        best_move = getBestMoveAheadEdition(position, model)\n",
    "        position.push_uci(best_move)\n",
    "        position.show()\n",
    "        position = Board(position.getMatrix(), turn='b')\n",
    "        \n",
    "        clear_output(wait=True)\n",
    "        \n",
    "        user_move = \"\"\n",
    "        user_move = input(\"Faça seu movimento(ex: e2e4): \")\n",
    "        while(True):\n",
    "            try:\n",
    "                position.push_uci(user_move)\n",
    "                break\n",
    "            except:\n",
    "                user_move = input(\"Movimento errado! Faça outro(ESC/ENTER para parar de jogar): \")\n",
    "                if user_move == \"\": return\n",
    "        position.show()\n",
    "        position = Board(position.getMatrix(), turn='w')"
   ]
  },
  {
   "cell_type": "markdown",
   "metadata": {},
   "source": [
    "### Alpha-Beta Pruning"
   ]
  },
  {
   "cell_type": "code",
   "execution_count": 42,
   "metadata": {},
   "outputs": [],
   "source": [
    "def model_eval(board, model):\n",
    "    game = Board(fenpos=board.fen).getMatrix()\n",
    "    game = np.reshape(game, (1, 1, 8, 8))\n",
    "    return float(model(game))\n",
    "\n",
    "def minimax(board, depth, alpha, beta, max_player):\n",
    "    if depth == 0 or board.is_game_over():\n",
    "        return model_eval(board, model2Conv_changeSignalBlack)\n",
    "    \n",
    "    if max_player:\n",
    "        for move in board.generate_legal_moves():\n",
    "            \n",
    "            board.push_san(move)\n",
    "            eval = minimax(board, depth-1, alpha, beta, False)\n",
    "            board.pop()\n",
    "            if eval >= beta:\n",
    "                return beta\n",
    "            alpha = max(alpha, eval)\n",
    "        return alpha\n",
    "    \n",
    "    else:\n",
    "        for move in board.generate_legal_moves():\n",
    "            \n",
    "            board.push_san(move)\n",
    "            eval = minimax(board, depth-1, alpha, beta, True)\n",
    "            board.pop()\n",
    "            if eval <= alpha:\n",
    "                return alpha\n",
    "            beta = min(beta, eval)\n",
    "        return beta"
   ]
  }
 ],
 "metadata": {
  "kernelspec": {
   "display_name": "Python 3",
   "language": "python",
   "name": "python3"
  },
  "language_info": {
   "codemirror_mode": {
    "name": "ipython",
    "version": 3
   },
   "file_extension": ".py",
   "mimetype": "text/x-python",
   "name": "python",
   "nbconvert_exporter": "python",
   "pygments_lexer": "ipython3",
   "version": "3.11.7"
  },
  "orig_nbformat": 4
 },
 "nbformat": 4,
 "nbformat_minor": 2
}
